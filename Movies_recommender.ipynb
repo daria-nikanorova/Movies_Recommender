{
  "nbformat": 4,
  "nbformat_minor": 0,
  "metadata": {
    "accelerator": "TPU",
    "colab": {
      "name": "Movies_recommender.ipynb",
      "provenance": [],
      "collapsed_sections": [],
      "machine_shape": "hm",
      "mount_file_id": "1RhHpjv34UruU1oIsXHoeigcmGlY41OII",
      "authorship_tag": "ABX9TyN1QDaZCknF1y2K5G3f9Bl/",
      "include_colab_link": true
    },
    "kernelspec": {
      "display_name": "Python 3",
      "name": "python3"
    },
    "language_info": {
      "name": "python"
    }
  },
  "cells": [
    {
      "cell_type": "markdown",
      "metadata": {
        "id": "view-in-github",
        "colab_type": "text"
      },
      "source": [
        "<a href=\"https://colab.research.google.com/github/daria-nikanorova/Movies_Recommender/blob/master/Movies_recommender.ipynb\" target=\"_parent\"><img src=\"https://colab.research.google.com/assets/colab-badge.svg\" alt=\"Open In Colab\"/></a>"
      ]
    },
    {
      "cell_type": "markdown",
      "metadata": {
        "id": "ysSzXgK3RsXe"
      },
      "source": [
        "# Collaborative filtering vs Hybrid recommender"
      ]
    },
    {
      "cell_type": "markdown",
      "metadata": {
        "id": "LYyROGS4R09z"
      },
      "source": [
        "This project is aimed at building and comparing recommender systems. Usually, there are two approaches for recommending some items to users : Collaborative Filtering (CF) and Content-Based\n",
        "\n",
        "The first one - collaborative filtering - is based only on information about explicit or implicit interactions between users and items, such as ratings, tags, clicks etc. One of the most popular methods for collaborative filtering is based on singular value decomposition (SVD).\n",
        "\n",
        "In contrast, content-based recommender systems take into account not only history of interactions but also additional information about users or items. For example, if two users are of the same age and have similar jobs, we can assume that they have also common preferencies in music, movies etc. Similarly, two movies of the same genre are more likely to be highly estimated by a user.\n",
        "\n",
        "Hybrid systems try to use both information about interactions between users and items as well as additional item or user features.\n",
        "\n",
        "We will use *movielens-20m-dataset*, which contains information about ~20 mln of ratings from Netflix website.\n",
        "\n",
        "The first part of this notebook is fully dedicated to build collaborative filtering recommender with *Surprise* library. The second part is concerned with comparing collaborative and hybrid approaches using *LightFM* library. "
      ]
    },
    {
      "cell_type": "markdown",
      "metadata": {
        "id": "csztp1HkUPMc"
      },
      "source": [
        "## Retrieving the data"
      ]
    },
    {
      "cell_type": "markdown",
      "metadata": {
        "id": "imdVQ6GvUTKs"
      },
      "source": [
        "First of all we need to install all libraries and obtain data. It is very convenient to download it directly from Kaggle, mounting on Google drive. \n",
        "\n",
        "You may skip this part in case you are not interested in technical details of obtaining data."
      ]
    },
    {
      "cell_type": "code",
      "metadata": {
        "id": "5yOVRcwyNeuP",
        "colab": {
          "base_uri": "https://localhost:8080/"
        },
        "outputId": "f5e4efbe-f5d1-42e4-a7df-769db0f4ac00"
      },
      "source": [
        "#Install packages\n",
        "\n",
        "!pip install surprise -qq\n",
        "!pip install -qq kaggle\n",
        "!pip install -qq dask[complete]\n",
        "!pip install -qq lightfm\n",
        "!pip install -qq scikit-optimize"
      ],
      "execution_count": 2,
      "outputs": [
        {
          "output_type": "stream",
          "text": [
            "\u001b[K     |████████████████████████████████| 11.8MB 6.3MB/s \n",
            "\u001b[?25h  Building wheel for scikit-surprise (setup.py) ... \u001b[?25l\u001b[?25hdone\n",
            "\u001b[K     |████████████████████████████████| 727kB 6.0MB/s \n",
            "\u001b[K     |████████████████████████████████| 122kB 10.6MB/s \n",
            "\u001b[31mERROR: distributed 2021.6.2 has requirement cloudpickle>=1.5.0, but you'll have cloudpickle 1.3.0 which is incompatible.\u001b[0m\n",
            "\u001b[31mERROR: distributed 2021.6.2 has requirement dask==2021.06.2, but you'll have dask 2.12.0 which is incompatible.\u001b[0m\n",
            "\u001b[K     |████████████████████████████████| 317kB 4.9MB/s \n",
            "\u001b[?25h  Building wheel for lightfm (setup.py) ... \u001b[?25l\u001b[?25hdone\n",
            "\u001b[K     |████████████████████████████████| 102kB 4.5MB/s \n",
            "\u001b[?25h"
          ],
          "name": "stdout"
        }
      ]
    },
    {
      "cell_type": "code",
      "metadata": {
        "id": "1H-U0AG6NsGn"
      },
      "source": [
        "# Import libraries\n",
        "\n",
        "import pandas as pd\n",
        "import numpy as np\n",
        "import matplotlib.pyplot as plt\n",
        "import matplotlib as mpl\n",
        "import seaborn as sns\n",
        "from surprise import Dataset, Reader, SVD, accuracy\n",
        "from surprise.model_selection import GridSearchCV, cross_validate, KFold \n",
        "from surprise.dump import dump, load\n",
        "from google.colab import files\n",
        "from scipy.sparse import csr_matrix\n",
        "import csv\n",
        "import dask.dataframe as dd\n",
        "from scipy import sparse\n",
        "from collections import defaultdict\n",
        "\n",
        "from lightfm import LightFM\n",
        "from lightfm.evaluation import precision_at_k, auc_score, recall_at_k\n",
        "from lightfm.data import Dataset\n",
        "from lightfm.cross_validation import random_train_test_split\n",
        "\n",
        "from sklearn.model_selection import train_test_split\n",
        "from skopt import forest_minimize\n",
        "\n",
        "from scipy.stats import ttest_ind"
      ],
      "execution_count": 49,
      "outputs": []
    },
    {
      "cell_type": "code",
      "metadata": {
        "id": "lFW9w7Q1spZf"
      },
      "source": [
        "# Set parameters for all future graphs\n",
        "\n",
        "plt.rcParams['figure.figsize'] = [12, 8]\n",
        "plt.rcParams['savefig.bbox'] = 'tight'\n",
        "plt.rcParams['font.size'] = 20"
      ],
      "execution_count": 46,
      "outputs": []
    },
    {
      "cell_type": "markdown",
      "metadata": {
        "id": "pVYmERZmUyMM"
      },
      "source": [
        "We need to upload kaggle.json key in order to obtain data (you can get the key in your kaggle profile and upload via files.upload())"
      ]
    },
    {
      "cell_type": "code",
      "metadata": {
        "id": "grz_o_kfNsMR"
      },
      "source": [
        "files.upload()"
      ],
      "execution_count": null,
      "outputs": []
    },
    {
      "cell_type": "markdown",
      "metadata": {
        "id": "kpKGXTmdVFVD"
      },
      "source": [
        "Now we will:\n",
        "* copy kaggle key in kaggle directory\n",
        "* download data\n",
        "* make directory on Gooogle drive\n",
        "* unzip files"
      ]
    },
    {
      "cell_type": "code",
      "metadata": {
        "id": "8B6aXzo8NsTp"
      },
      "source": [
        "! cp kaggle.json ~/.kaggle/\n",
        "! chmod 600 ~/.kaggle/kaggle.json\n",
        "! kaggle datasets download -d grouplens/movielens-20m-dataset\n",
        "! mkdir drive/MyDrive/movielens_data/\n",
        "! unzip movielens-20m-dataset.zip -d drive/MyDrive/movielens_data/"
      ],
      "execution_count": null,
      "outputs": []
    },
    {
      "cell_type": "markdown",
      "metadata": {
        "id": "hwOs1vJqVkbq"
      },
      "source": [
        "That's it!"
      ]
    },
    {
      "cell_type": "markdown",
      "metadata": {
        "id": "Q-ANytRBVurM"
      },
      "source": [
        "OK, having obtained the data we now can take a look at it."
      ]
    },
    {
      "cell_type": "markdown",
      "metadata": {
        "id": "3XciZ--gaies"
      },
      "source": [
        "## Long Tail plot"
      ]
    },
    {
      "cell_type": "markdown",
      "metadata": {
        "id": "TRGBpaxRXbG4"
      },
      "source": [
        "But firstly let me show you why we need to create a recommender system.\n",
        "\n",
        "Let's find out how many movies are rated by the most users."
      ]
    },
    {
      "cell_type": "code",
      "metadata": {
        "colab": {
          "base_uri": "https://localhost:8080/",
          "height": 197
        },
        "id": "Pjdt_ldhTLsR",
        "outputId": "3ee5a88e-ea2a-493d-93bc-5049173a5195"
      },
      "source": [
        "df = pd.read_csv(\"drive/MyDrive/movielens_data/rating.csv\")\n",
        "df.head()"
      ],
      "execution_count": 60,
      "outputs": [
        {
          "output_type": "execute_result",
          "data": {
            "text/html": [
              "<div>\n",
              "<style scoped>\n",
              "    .dataframe tbody tr th:only-of-type {\n",
              "        vertical-align: middle;\n",
              "    }\n",
              "\n",
              "    .dataframe tbody tr th {\n",
              "        vertical-align: top;\n",
              "    }\n",
              "\n",
              "    .dataframe thead th {\n",
              "        text-align: right;\n",
              "    }\n",
              "</style>\n",
              "<table border=\"1\" class=\"dataframe\">\n",
              "  <thead>\n",
              "    <tr style=\"text-align: right;\">\n",
              "      <th></th>\n",
              "      <th>userId</th>\n",
              "      <th>movieId</th>\n",
              "      <th>rating</th>\n",
              "      <th>timestamp</th>\n",
              "    </tr>\n",
              "  </thead>\n",
              "  <tbody>\n",
              "    <tr>\n",
              "      <th>0</th>\n",
              "      <td>1</td>\n",
              "      <td>2</td>\n",
              "      <td>3.5</td>\n",
              "      <td>2005-04-02 23:53:47</td>\n",
              "    </tr>\n",
              "    <tr>\n",
              "      <th>1</th>\n",
              "      <td>1</td>\n",
              "      <td>29</td>\n",
              "      <td>3.5</td>\n",
              "      <td>2005-04-02 23:31:16</td>\n",
              "    </tr>\n",
              "    <tr>\n",
              "      <th>2</th>\n",
              "      <td>1</td>\n",
              "      <td>32</td>\n",
              "      <td>3.5</td>\n",
              "      <td>2005-04-02 23:33:39</td>\n",
              "    </tr>\n",
              "    <tr>\n",
              "      <th>3</th>\n",
              "      <td>1</td>\n",
              "      <td>47</td>\n",
              "      <td>3.5</td>\n",
              "      <td>2005-04-02 23:32:07</td>\n",
              "    </tr>\n",
              "    <tr>\n",
              "      <th>4</th>\n",
              "      <td>1</td>\n",
              "      <td>50</td>\n",
              "      <td>3.5</td>\n",
              "      <td>2005-04-02 23:29:40</td>\n",
              "    </tr>\n",
              "  </tbody>\n",
              "</table>\n",
              "</div>"
            ],
            "text/plain": [
              "   userId  movieId  rating            timestamp\n",
              "0       1        2     3.5  2005-04-02 23:53:47\n",
              "1       1       29     3.5  2005-04-02 23:31:16\n",
              "2       1       32     3.5  2005-04-02 23:33:39\n",
              "3       1       47     3.5  2005-04-02 23:32:07\n",
              "4       1       50     3.5  2005-04-02 23:29:40"
            ]
          },
          "metadata": {
            "tags": []
          },
          "execution_count": 60
        }
      ]
    },
    {
      "cell_type": "code",
      "metadata": {
        "colab": {
          "base_uri": "https://localhost:8080/",
          "height": 197
        },
        "id": "QbKvQAy9TL0j",
        "outputId": "323173fa-a7ef-4f07-9a28-989e8c31a0fa"
      },
      "source": [
        "volume_df = df['movieId'].value_counts().reset_index()\n",
        "volume_df.columns = ['movieId', \"volume\"]\n",
        "volume_df.head()"
      ],
      "execution_count": 61,
      "outputs": [
        {
          "output_type": "execute_result",
          "data": {
            "text/html": [
              "<div>\n",
              "<style scoped>\n",
              "    .dataframe tbody tr th:only-of-type {\n",
              "        vertical-align: middle;\n",
              "    }\n",
              "\n",
              "    .dataframe tbody tr th {\n",
              "        vertical-align: top;\n",
              "    }\n",
              "\n",
              "    .dataframe thead th {\n",
              "        text-align: right;\n",
              "    }\n",
              "</style>\n",
              "<table border=\"1\" class=\"dataframe\">\n",
              "  <thead>\n",
              "    <tr style=\"text-align: right;\">\n",
              "      <th></th>\n",
              "      <th>movieId</th>\n",
              "      <th>volume</th>\n",
              "    </tr>\n",
              "  </thead>\n",
              "  <tbody>\n",
              "    <tr>\n",
              "      <th>0</th>\n",
              "      <td>296</td>\n",
              "      <td>67310</td>\n",
              "    </tr>\n",
              "    <tr>\n",
              "      <th>1</th>\n",
              "      <td>356</td>\n",
              "      <td>66172</td>\n",
              "    </tr>\n",
              "    <tr>\n",
              "      <th>2</th>\n",
              "      <td>318</td>\n",
              "      <td>63366</td>\n",
              "    </tr>\n",
              "    <tr>\n",
              "      <th>3</th>\n",
              "      <td>593</td>\n",
              "      <td>63299</td>\n",
              "    </tr>\n",
              "    <tr>\n",
              "      <th>4</th>\n",
              "      <td>480</td>\n",
              "      <td>59715</td>\n",
              "    </tr>\n",
              "  </tbody>\n",
              "</table>\n",
              "</div>"
            ],
            "text/plain": [
              "   movieId  volume\n",
              "0      296   67310\n",
              "1      356   66172\n",
              "2      318   63366\n",
              "3      593   63299\n",
              "4      480   59715"
            ]
          },
          "metadata": {
            "tags": []
          },
          "execution_count": 61
        }
      ]
    },
    {
      "cell_type": "code",
      "metadata": {
        "colab": {
          "base_uri": "https://localhost:8080/",
          "height": 527
        },
        "id": "fwcVSbYfTL3Z",
        "outputId": "b82d6e06-1e85-407c-8e86-3b7cdc88767a"
      },
      "source": [
        "# Make a plot\n",
        "xs = range(0, 2000)\n",
        "ys = volume_df['volume'][:2000]\n",
        "\n",
        "plt.plot(xs, ys)\n",
        "\n",
        "plt.title('Long Tail Plot')\n",
        "\n",
        "plt.xlabel('Movie Id')\n",
        "plt.ylabel('# of movie ratings')\n",
        "\n",
        "plt.grid()"
      ],
      "execution_count": 62,
      "outputs": [
        {
          "output_type": "display_data",
          "data": {
            "image/png": "[encoded data removed]",
            "text/plain": [
              "<Figure size 1296x576 with 1 Axes>"
            ]
          },
          "metadata": {
            "tags": [],
            "needs_background": "light"
          }
        }
      ]
    },
    {
      "cell_type": "markdown",
      "metadata": {
        "id": "eD76uErhYab7"
      },
      "source": [
        "The plot above is called \"Long Tail plot\".\n",
        "\n",
        "Typically, only a small percentage of items have a high volume of interactions, and this is referred to as the “head”. Most items are in the “long tail”, but they only make up a small percentage of interactions.\n",
        "\n",
        "Indeed, there are less than 500 movies that were rated more than 10000 times. These movies are already well-known to most users, and recommendations of them may not offer a personalized experience or help users discover new, relevant movies.  \n",
        "\n",
        "That is why we need to build a powerful recommender system that will recommend movies based on user's own preferencies as well as popularity and movies features."
      ]
    },
    {
      "cell_type": "markdown",
      "metadata": {
        "id": "oNXM-A4XVm4G"
      },
      "source": [
        "## Train/test split"
      ]
    },
    {
      "cell_type": "markdown",
      "metadata": {
        "id": "XZf-wClUV807"
      },
      "source": [
        "Apart from ratings there are timestamps in the data. Brilliant, we can use it for splitting data.\n",
        "\n",
        "Imagine working in Netflix: you had already deployed recommendation system, but new data arrived after that! So you need to include new movies (or users) in your recommendation system. Are you sure your model is appropriate to work with absolutely new data?\n",
        "\n",
        "We can simulate this situation and train our models on old data, following by testing on new data.\n",
        "\n",
        "The idea is to take 33% of most recent ratings from each user as a test datset, using left part (old ratings) as a training set."
      ]
    },
    {
      "cell_type": "code",
      "metadata": {
        "id": "1uRjt90uWlhJ"
      },
      "source": [
        "# Sort the data by userId and time of his ratings\n",
        "\n",
        "df_sorted = df.sort_values(by=[\"userId\", \"timestamp\"], ascending = (True, False))"
      ],
      "execution_count": 63,
      "outputs": []
    },
    {
      "cell_type": "code",
      "metadata": {
        "colab": {
          "base_uri": "https://localhost:8080/",
          "height": 406
        },
        "id": "CNCcLGUeWlk3",
        "outputId": "f9c2adaf-cf25-4401-b720-41d10daa3d71"
      },
      "source": [
        "# Create a dataframe with information about a number of ratings and 33% of it for each user\n",
        "\n",
        "# Calculate a number of ratings for each user\n",
        "users_count = pd.DataFrame(df_sorted['userId'].value_counts(sort=False)).reset_index()\n",
        "users_count.columns = ['userId', \"n_of_ratings\"]\n",
        "users_count = users_count.sort_values(by=\"userId\")\n",
        "\n",
        "# Calculate cumulative sum of number of ratings across all users\n",
        "users_count['cum_n_of_ratings'] = users_count['n_of_ratings'].cumsum()\n",
        "\n",
        "# Find 33% of ratings for each user\n",
        "users_count['n_of_ratings_33'] = round(users_count['n_of_ratings'] * 0.33).astype(int)\n",
        "users_count"
      ],
      "execution_count": 64,
      "outputs": [
        {
          "output_type": "execute_result",
          "data": {
            "text/html": [
              "<div>\n",
              "<style scoped>\n",
              "    .dataframe tbody tr th:only-of-type {\n",
              "        vertical-align: middle;\n",
              "    }\n",
              "\n",
              "    .dataframe tbody tr th {\n",
              "        vertical-align: top;\n",
              "    }\n",
              "\n",
              "    .dataframe thead th {\n",
              "        text-align: right;\n",
              "    }\n",
              "</style>\n",
              "<table border=\"1\" class=\"dataframe\">\n",
              "  <thead>\n",
              "    <tr style=\"text-align: right;\">\n",
              "      <th></th>\n",
              "      <th>userId</th>\n",
              "      <th>n_of_ratings</th>\n",
              "      <th>cum_n_of_ratings</th>\n",
              "      <th>n_of_ratings_33</th>\n",
              "    </tr>\n",
              "  </thead>\n",
              "  <tbody>\n",
              "    <tr>\n",
              "      <th>8</th>\n",
              "      <td>1</td>\n",
              "      <td>175</td>\n",
              "      <td>175</td>\n",
              "      <td>58</td>\n",
              "    </tr>\n",
              "    <tr>\n",
              "      <th>17</th>\n",
              "      <td>2</td>\n",
              "      <td>61</td>\n",
              "      <td>236</td>\n",
              "      <td>20</td>\n",
              "    </tr>\n",
              "    <tr>\n",
              "      <th>26</th>\n",
              "      <td>3</td>\n",
              "      <td>187</td>\n",
              "      <td>423</td>\n",
              "      <td>62</td>\n",
              "    </tr>\n",
              "    <tr>\n",
              "      <th>35</th>\n",
              "      <td>4</td>\n",
              "      <td>28</td>\n",
              "      <td>451</td>\n",
              "      <td>9</td>\n",
              "    </tr>\n",
              "    <tr>\n",
              "      <th>44</th>\n",
              "      <td>5</td>\n",
              "      <td>66</td>\n",
              "      <td>517</td>\n",
              "      <td>22</td>\n",
              "    </tr>\n",
              "    <tr>\n",
              "      <th>...</th>\n",
              "      <td>...</td>\n",
              "      <td>...</td>\n",
              "      <td>...</td>\n",
              "      <td>...</td>\n",
              "    </tr>\n",
              "    <tr>\n",
              "      <th>66193</th>\n",
              "      <td>138489</td>\n",
              "      <td>38</td>\n",
              "      <td>19999635</td>\n",
              "      <td>13</td>\n",
              "    </tr>\n",
              "    <tr>\n",
              "      <th>66184</th>\n",
              "      <td>138490</td>\n",
              "      <td>151</td>\n",
              "      <td>19999786</td>\n",
              "      <td>50</td>\n",
              "    </tr>\n",
              "    <tr>\n",
              "      <th>66175</th>\n",
              "      <td>138491</td>\n",
              "      <td>22</td>\n",
              "      <td>19999808</td>\n",
              "      <td>7</td>\n",
              "    </tr>\n",
              "    <tr>\n",
              "      <th>66236</th>\n",
              "      <td>138492</td>\n",
              "      <td>82</td>\n",
              "      <td>19999890</td>\n",
              "      <td>27</td>\n",
              "    </tr>\n",
              "    <tr>\n",
              "      <th>66227</th>\n",
              "      <td>138493</td>\n",
              "      <td>373</td>\n",
              "      <td>20000263</td>\n",
              "      <td>123</td>\n",
              "    </tr>\n",
              "  </tbody>\n",
              "</table>\n",
              "<p>138493 rows × 4 columns</p>\n",
              "</div>"
            ],
            "text/plain": [
              "       userId  n_of_ratings  cum_n_of_ratings  n_of_ratings_33\n",
              "8           1           175               175               58\n",
              "17          2            61               236               20\n",
              "26          3           187               423               62\n",
              "35          4            28               451                9\n",
              "44          5            66               517               22\n",
              "...       ...           ...               ...              ...\n",
              "66193  138489            38          19999635               13\n",
              "66184  138490           151          19999786               50\n",
              "66175  138491            22          19999808                7\n",
              "66236  138492            82          19999890               27\n",
              "66227  138493           373          20000263              123\n",
              "\n",
              "[138493 rows x 4 columns]"
            ]
          },
          "metadata": {
            "tags": []
          },
          "execution_count": 64
        }
      ]
    },
    {
      "cell_type": "markdown",
      "metadata": {
        "id": "KwRYSt1XcOlj"
      },
      "source": [
        "After that we can find indices that are correspondent to 33% of the most recent ratings in our sorted dataframe."
      ]
    },
    {
      "cell_type": "code",
      "metadata": {
        "id": "7Bsv9cpRWloi"
      },
      "source": [
        "# Add index for the 1st user manually\n",
        "test_ind = list(range(59))\n",
        "\n",
        "# Loop over all users and add index\n",
        "for i in range(1, n_users):\n",
        "  start = users_count.iloc[i-1, 2]\n",
        "  stop = start + users_count.iloc[i, 3] + 1\n",
        "  for _ in range(start, stop):\n",
        "    test_ind.append(_)"
      ],
      "execution_count": null,
      "outputs": []
    },
    {
      "cell_type": "markdown",
      "metadata": {
        "id": "4fYlI4Nlc0wH"
      },
      "source": [
        "OK, now lets find index of the train data (~66%)"
      ]
    },
    {
      "cell_type": "code",
      "metadata": {
        "id": "XJx-Io59Wlsq"
      },
      "source": [
        "n_of_ratings = df.shape[0]\n",
        "\n",
        "train_ind = np.setdiff1d(list(range(n_of_ratings)), test_ind)"
      ],
      "execution_count": null,
      "outputs": []
    },
    {
      "cell_type": "markdown",
      "metadata": {
        "id": "eMJn01N3dP1j"
      },
      "source": [
        "Now we only need to get rows from the initial dataframe according to the indices we've found:"
      ]
    },
    {
      "cell_type": "code",
      "metadata": {
        "id": "Mj2suKt2W9kv"
      },
      "source": [
        "test_data = df_sorted.iloc[test_ind]"
      ],
      "execution_count": null,
      "outputs": []
    },
    {
      "cell_type": "code",
      "metadata": {
        "id": "ThEw7CROW9nG"
      },
      "source": [
        "train_data = df_sorted.iloc[train_ind]"
      ],
      "execution_count": null,
      "outputs": []
    },
    {
      "cell_type": "code",
      "metadata": {
        "id": "uC3nOoxZW9qb"
      },
      "source": [
        "#test_data.to_csv('drive/MyDrive/movielens_data/test_manually.csv', index=False)\n",
        "#train_data.to_csv('drive/MyDrive/movielens_data/train_manually.csv', index=False)"
      ],
      "execution_count": null,
      "outputs": []
    },
    {
      "cell_type": "markdown",
      "metadata": {
        "id": "pvpGnQpfdaXU"
      },
      "source": [
        "Of course it is more convenient to use pandas tools, like groupby and others, but pandas turned out to be very slow on the data with ~20 mln rows!"
      ]
    },
    {
      "cell_type": "markdown",
      "metadata": {
        "id": "o0-Av9ofmXq6"
      },
      "source": [
        "## Which metric should I choose?"
      ]
    },
    {
      "cell_type": "markdown",
      "metadata": {
        "id": "MHIFaBV1io7Y"
      },
      "source": [
        "Before starting to fit models we need to choose a metric for model evaluation.\n",
        "\n",
        "There are lots of metrics to choose from, but in terms of recommender systems, the most popular ones are Precision at k (precision@k) and Recall at k (recall@k).\n",
        "\n",
        "In short, precision@k, similarly to its classic implementation, is the fraction of relevant items in *k* retrieved items. It is used to answer how many items among *k* recommendations are correct.\n",
        "\n",
        "And recall@k is the fraction of relevant items in all relevant items. It is to answer how many from all relevant items are captured in the recommendations.\n",
        "\n",
        "To my mind, precision@k is more relevant. Imagine a user, who wants to watch a movie and asks for recommendation. For example, your system recommends 10 movies, 9 of them are highly relevant to a user. A user becomes very happy and will defenitely rely on your system in the future. However your system did not find all relevant movies - lot's of them remain unrecommended to your user. Fortunately, a user will never know that! He is happy with the fact that 9 out of 10 movies were brilliant. \n",
        "\n",
        "By contrast, if you try to find as much relevant movies as possible, you will end up recommending a lot of trash movies along with good ones. Your user will soon be disappointed, because he spent a lot of time watching inappropriate movies.\n",
        "\n",
        "That is why I dicided to use precision@k."
      ]
    },
    {
      "cell_type": "markdown",
      "metadata": {
        "id": "cF7BsbmwfCNm"
      },
      "source": [
        "## I. Collaborative filtering"
      ]
    },
    {
      "cell_type": "markdown",
      "metadata": {
        "id": "KV3i62zFwipX"
      },
      "source": [
        "After splitting data into train and test we can apply SVD algorithm implemented in *surprise* library. \n",
        "\n",
        "Model-based Collaborative Filtering can be formulated by approximating a matrix by using Singular Value Decomposition (SVD).\n",
        "\n",
        "Imagine we have a sparse user-item matrix (m×n): each column represents an item, each row - a user. We can decompose such matrix *R* into three:\n",
        "\n",
        "* *U* matrix (m×r)\n",
        "* *S* diagonal matrix (r×r)\n",
        "* *V transpose* (r×n)\n",
        "\n",
        "The first matrix represents all users, the last one - all items. Than we can easily find a value in in our user-item matrix as a dot product between a row from *U* matrix and a column from *Vt* matrix. \n",
        "\n",
        "This approach has a simple underlying intuition: we can predict a rating of a user *u* to the movie *m*, knowing how other users rate this movie *m* and how user *u* usually estimated other movies.\n",
        "\n",
        "Unfortunately, we cannot have missing values in our matrix before decomposition...\n",
        "\n",
        "That is why we need machine learning! We cannot precisely find the decomposition, but we can try to fill missing values in a way that will describe our initial data as close as possible.\n",
        "\n",
        "We will use Root Mean Square Error (RMSE) for optimization and we can implement stochastic gradient descent in order to find the minimum of this function during learning.\n",
        "\n",
        "Exactly the same approach is implemented in *Surprise* library. So we will start from fitting SVD model with default parameters. After that we will tune learning rate and regularization parameters with *GridSearchCV* function. Finally, we will define optimal number of epochs for training.\n",
        "\n",
        "With all parameters estimated we will fit the best model and make predictions on test data."
      ]
    },
    {
      "cell_type": "markdown",
      "metadata": {
        "id": "oQLB_Wyv7HxS"
      },
      "source": [
        "### Load data"
      ]
    },
    {
      "cell_type": "markdown",
      "metadata": {
        "id": "yNHXeNrOxeAu"
      },
      "source": [
        "Upload test and train data using *dask* library:"
      ]
    },
    {
      "cell_type": "code",
      "metadata": {
        "id": "gbEdRAUXhuX2"
      },
      "source": [
        "train = dd.read_csv(\"drive/MyDrive/movielens_data/train_manually.csv\")\n",
        "test = dd.read_csv(\"drive/MyDrive/movielens_data/test_manually.csv\")"
      ],
      "execution_count": 64,
      "outputs": []
    },
    {
      "cell_type": "code",
      "metadata": {
        "colab": {
          "base_uri": "https://localhost:8080/",
          "height": 197
        },
        "id": "aopKD9guA5WB",
        "outputId": "08b4ea01-66e7-41d5-c487-c1102d487d64"
      },
      "source": [
        "# check if the data are correct:\n",
        "train.head()"
      ],
      "execution_count": 65,
      "outputs": [
        {
          "output_type": "execute_result",
          "data": {
            "text/html": [
              "<div>\n",
              "<style scoped>\n",
              "    .dataframe tbody tr th:only-of-type {\n",
              "        vertical-align: middle;\n",
              "    }\n",
              "\n",
              "    .dataframe tbody tr th {\n",
              "        vertical-align: top;\n",
              "    }\n",
              "\n",
              "    .dataframe thead th {\n",
              "        text-align: right;\n",
              "    }\n",
              "</style>\n",
              "<table border=\"1\" class=\"dataframe\">\n",
              "  <thead>\n",
              "    <tr style=\"text-align: right;\">\n",
              "      <th></th>\n",
              "      <th>userId</th>\n",
              "      <th>movieId</th>\n",
              "      <th>rating</th>\n",
              "      <th>timestamp</th>\n",
              "    </tr>\n",
              "  </thead>\n",
              "  <tbody>\n",
              "    <tr>\n",
              "      <th>0</th>\n",
              "      <td>1</td>\n",
              "      <td>2872</td>\n",
              "      <td>4.0</td>\n",
              "      <td>2005-04-02 23:48:17</td>\n",
              "    </tr>\n",
              "    <tr>\n",
              "      <th>1</th>\n",
              "      <td>1</td>\n",
              "      <td>8368</td>\n",
              "      <td>4.0</td>\n",
              "      <td>2005-04-02 23:48:08</td>\n",
              "    </tr>\n",
              "    <tr>\n",
              "      <th>2</th>\n",
              "      <td>1</td>\n",
              "      <td>8961</td>\n",
              "      <td>4.0</td>\n",
              "      <td>2005-04-02 23:47:09</td>\n",
              "    </tr>\n",
              "    <tr>\n",
              "      <th>3</th>\n",
              "      <td>1</td>\n",
              "      <td>2947</td>\n",
              "      <td>3.5</td>\n",
              "      <td>2005-04-02 23:46:20</td>\n",
              "    </tr>\n",
              "    <tr>\n",
              "      <th>4</th>\n",
              "      <td>1</td>\n",
              "      <td>223</td>\n",
              "      <td>4.0</td>\n",
              "      <td>2005-04-02 23:46:13</td>\n",
              "    </tr>\n",
              "  </tbody>\n",
              "</table>\n",
              "</div>"
            ],
            "text/plain": [
              "   userId  movieId  rating            timestamp\n",
              "0       1     2872     4.0  2005-04-02 23:48:17\n",
              "1       1     8368     4.0  2005-04-02 23:48:08\n",
              "2       1     8961     4.0  2005-04-02 23:47:09\n",
              "3       1     2947     3.5  2005-04-02 23:46:20\n",
              "4       1      223     4.0  2005-04-02 23:46:13"
            ]
          },
          "metadata": {
            "tags": []
          },
          "execution_count": 65
        }
      ]
    },
    {
      "cell_type": "code",
      "metadata": {
        "id": "HZPrylZDKurR"
      },
      "source": [
        "# set reader object to load dataframe\n",
        "reader = Reader(rating_scale=(1, 5))"
      ],
      "execution_count": 66,
      "outputs": []
    },
    {
      "cell_type": "code",
      "metadata": {
        "id": "Tg_581MneytE"
      },
      "source": [
        "# load dataframe\n",
        "train_data = Dataset.load_from_df(train[[\"userId\", \"movieId\", \"rating\"]], reader)\n",
        "test_data = Dataset.load_from_df(test[[\"userId\", \"movieId\", \"rating\"]], reader)"
      ],
      "execution_count": 67,
      "outputs": []
    },
    {
      "cell_type": "markdown",
      "metadata": {
        "id": "o47OyAQ07PMv"
      },
      "source": [
        "### Fit SVD with default parameters"
      ]
    },
    {
      "cell_type": "code",
      "metadata": {
        "id": "smCOpmnmgUmP"
      },
      "source": [
        "# we'll use SVD algorithm with default parameters firstly\n",
        "algo = SVD()"
      ],
      "execution_count": 35,
      "outputs": []
    },
    {
      "cell_type": "code",
      "metadata": {
        "colab": {
          "base_uri": "https://localhost:8080/"
        },
        "id": "wIdlTMJ97ma7",
        "outputId": "7e0f66ef-cc24-4651-835e-070a1eabb338"
      },
      "source": [
        "# Run 3-fold cross-validation and print results\n",
        "cross_validate(algo, train_data, measures=['RMSE'], cv=3, verbose=True)"
      ],
      "execution_count": 36,
      "outputs": [
        {
          "output_type": "stream",
          "text": [
            "Evaluating RMSE of algorithm SVD on 3 split(s).\n",
            "\n",
            "                  Fold 1  Fold 2  Fold 3  Mean    Std     \n",
            "RMSE (testset)    0.8159  0.8161  0.8156  0.8159  0.0002  \n",
            "Fit time          541.85  565.83  554.54  554.07  9.80    \n",
            "Test time         120.57  94.69   90.32   101.86  13.35   \n"
          ],
          "name": "stdout"
        },
        {
          "output_type": "execute_result",
          "data": {
            "text/plain": [
              "{'fit_time': (541.8450000286102, 565.8299915790558, 554.5419628620148),\n",
              " 'test_rmse': array([0.81587397, 0.8161467 , 0.81557396]),\n",
              " 'test_time': (120.57368755340576, 94.68907237052917, 90.3227641582489)}"
            ]
          },
          "metadata": {
            "tags": []
          },
          "execution_count": 36
        }
      ]
    },
    {
      "cell_type": "markdown",
      "metadata": {
        "id": "0W0b--RxQbv9"
      },
      "source": [
        "We achieved test RMSE of 0.8159. That is good, but couldn't we do better with tuning some parameters?"
      ]
    },
    {
      "cell_type": "markdown",
      "metadata": {
        "id": "CJ58u7xqFU-i"
      },
      "source": [
        "### Parameters tuning"
      ]
    },
    {
      "cell_type": "markdown",
      "metadata": {
        "id": "N05jhas_zLXT"
      },
      "source": [
        "We've applied SVD algorithm with default parameters, but we can actually set the best parameters using *GridSearcCV* function. The most important parameters for SVD are learning rate and regularization parameter."
      ]
    },
    {
      "cell_type": "code",
      "metadata": {
        "id": "DsvnH_UsL9pM"
      },
      "source": [
        "# set parameters for search\n",
        "param_grid = {\n",
        "    \"reg_all\": [0.02, 0.4, 0.6],\n",
        "    \"lr_all\": [0.002, 0.005, 0.01]\n",
        "}\n",
        "gs = GridSearchCV(SVD, param_grid, measures=[\"rmse\"], cv=3)"
      ],
      "execution_count": null,
      "outputs": []
    },
    {
      "cell_type": "code",
      "metadata": {
        "id": "XynyWmkfC4Fd"
      },
      "source": [
        "# find best parameters\n",
        "gs.fit(train_data)"
      ],
      "execution_count": null,
      "outputs": []
    },
    {
      "cell_type": "code",
      "metadata": {
        "colab": {
          "base_uri": "https://localhost:8080/"
        },
        "id": "CV9CXkR35tNK",
        "outputId": "33d4a5c4-0c4b-4c01-f067-e423b7807221"
      },
      "source": [
        "print(gs.best_params['rmse'])"
      ],
      "execution_count": null,
      "outputs": [
        {
          "output_type": "stream",
          "text": [
            "{'reg_all': 0.02, 'lr_all': 0.005}\n"
          ],
          "name": "stdout"
        }
      ]
    },
    {
      "cell_type": "markdown",
      "metadata": {
        "id": "OAfptSIgz0LQ"
      },
      "source": [
        "Interestingly, the best parameters are the same ones that are implemented in default SVD(). OK, now we are sure about that."
      ]
    },
    {
      "cell_type": "code",
      "metadata": {
        "id": "kB_mjFRy6Lyo"
      },
      "source": [
        "# retrieve dataframe with metrics for each pair of parameters and save it\n",
        "results_df = pd.DataFrame.from_dict(gs.cv_results)\n",
        "results_df.to_csv('drive/MyDrive/movielens_data/svd_trained_3_reg_lr_metrics.csv', index=False)"
      ],
      "execution_count": null,
      "outputs": []
    },
    {
      "cell_type": "markdown",
      "metadata": {
        "id": "8VsHLd7L0k5B"
      },
      "source": [
        "We can dump our fitted algorithm for further analysis."
      ]
    },
    {
      "cell_type": "code",
      "metadata": {
        "id": "5vt6EZe4Jl89"
      },
      "source": [
        "algo = gs.best_estimator['rmse']\n",
        "dump('drive/MyDrive/movielens_data/svd_trained_3_reg_lr', algo=algo)"
      ],
      "execution_count": null,
      "outputs": []
    },
    {
      "cell_type": "markdown",
      "metadata": {
        "id": "FpMCW0410wJ9"
      },
      "source": [
        "The process of tuning is not over yet. We need to set the optimal time for learning - the number of epochs.  "
      ]
    },
    {
      "cell_type": "markdown",
      "metadata": {
        "id": "BQFk5TBeOc-g"
      },
      "source": [
        "### Convergence vs overfitting"
      ]
    },
    {
      "cell_type": "markdown",
      "metadata": {
        "id": "eulb1Hm5OlK1"
      },
      "source": [
        "Ideally, at some point the RMSE becomes 0, and we know we cannot do better. On practice we rarely can achieve zero error. Usually, the model is considered to be converged when loss function (RMSE in our case) begin to fluctuate over a minimum with the tiniest difference. In other words, we can stop\n",
        "when the improvement falls below a threshold. That means that the minimum of function was found, and further learning will not improve the result.\n",
        "\n",
        "However, we are not sure that the minimum we've found is global. Actually, we can arrive at one of the local minima that conform well to the train data, but\n",
        "doesn't reflect testing data. Although the RMSE may be small on the training\n",
        "data, it doesn’t predict well future data.\n",
        "\n",
        "That is why it is important to measure RMSE loss in validation data as well. Without that finding minimum in training data may lead to overfitting: excellent predictions in training data and poor ones in the test data."
      ]
    },
    {
      "cell_type": "markdown",
      "metadata": {
        "id": "kQUSvyKW2VcS"
      },
      "source": [
        "In order to find optimal number of epochs we will again use *GridSearchCV* with cross-validation. For each epoch we will split train set into 3 parts: the first two are the trainig data, and the last serves as validation data. Then we will repeat the same 3 times: each time the validation set will be new. We will get mean RMSE for training data as well as mean test RMSE."
      ]
    },
    {
      "cell_type": "code",
      "metadata": {
        "id": "aYjJKXGiOgOS"
      },
      "source": [
        "param_grid = {\n",
        "    \"n_epochs\": [1, 5, 10, 20, 50, 75]\n",
        "}\n",
        "gs = GridSearchCV(SVD, param_grid, measures=[\"rmse\"], cv=3, return_train_measures=True, joblib_verbose=3)"
      ],
      "execution_count": null,
      "outputs": []
    },
    {
      "cell_type": "code",
      "metadata": {
        "colab": {
          "background_save": true,
          "base_uri": "https://localhost:8080/"
        },
        "id": "YyKm1b50OgSK",
        "outputId": "b42d67e0-9a30-4480-f7d2-5cc1e5ae6f7f"
      },
      "source": [
        "gs.fit(train_data)"
      ],
      "execution_count": null,
      "outputs": [
        {
          "output_type": "stream",
          "text": [
            "[Parallel(n_jobs=1)]: Using backend SequentialBackend with 1 concurrent workers.\n",
            "[Parallel(n_jobs=1)]: Done   1 out of   1 | elapsed:  3.7min remaining:    0.0s\n",
            "[Parallel(n_jobs=1)]: Done   2 out of   2 | elapsed:  7.2min remaining:    0.0s\n",
            "[Parallel(n_jobs=1)]: Done   3 out of   3 | elapsed: 11.8min remaining:    0.0s\n",
            "[Parallel(n_jobs=1)]: Done   4 out of   4 | elapsed: 16.4min remaining:    0.0s\n",
            "[Parallel(n_jobs=1)]: Done   5 out of   5 | elapsed: 22.8min remaining:    0.0s\n",
            "[Parallel(n_jobs=1)]: Done   6 out of   6 | elapsed: 29.3min remaining:    0.0s\n",
            "[Parallel(n_jobs=1)]: Done   7 out of   7 | elapsed: 38.9min remaining:    0.0s\n"
          ],
          "name": "stderr"
        }
      ]
    },
    {
      "cell_type": "code",
      "metadata": {
        "id": "4dXPp_RnOgX2",
        "colab": {
          "base_uri": "https://localhost:8080/",
          "height": 347
        },
        "outputId": "3243637e-81b6-4043-8ecc-3ae09cfdd095"
      },
      "source": [
        "results_df = pd.DataFrame.from_dict(gs.cv_results)\n",
        "results_df"
      ],
      "execution_count": 11,
      "outputs": [
        {
          "output_type": "execute_result",
          "data": {
            "text/html": [
              "<div>\n",
              "<style scoped>\n",
              "    .dataframe tbody tr th:only-of-type {\n",
              "        vertical-align: middle;\n",
              "    }\n",
              "\n",
              "    .dataframe tbody tr th {\n",
              "        vertical-align: top;\n",
              "    }\n",
              "\n",
              "    .dataframe thead th {\n",
              "        text-align: right;\n",
              "    }\n",
              "</style>\n",
              "<table border=\"1\" class=\"dataframe\">\n",
              "  <thead>\n",
              "    <tr style=\"text-align: right;\">\n",
              "      <th></th>\n",
              "      <th>split0_test_rmse</th>\n",
              "      <th>split0_train_rmse</th>\n",
              "      <th>split1_test_rmse</th>\n",
              "      <th>split1_train_rmse</th>\n",
              "      <th>mean_test_rmse</th>\n",
              "      <th>std_test_rmse</th>\n",
              "      <th>mean_train_rmse</th>\n",
              "      <th>std_train_rmse</th>\n",
              "      <th>rank_test_rmse</th>\n",
              "      <th>mean_fit_time</th>\n",
              "      <th>std_fit_time</th>\n",
              "      <th>mean_test_time</th>\n",
              "      <th>std_test_time</th>\n",
              "      <th>params</th>\n",
              "      <th>param_n_epochs</th>\n",
              "    </tr>\n",
              "  </thead>\n",
              "  <tbody>\n",
              "    <tr>\n",
              "      <th>0</th>\n",
              "      <td>0.906740</td>\n",
              "      <td>0.895792</td>\n",
              "      <td>0.905689</td>\n",
              "      <td>0.896836</td>\n",
              "      <td>0.906214</td>\n",
              "      <td>0.000526</td>\n",
              "      <td>0.896314</td>\n",
              "      <td>0.000522</td>\n",
              "      <td>6</td>\n",
              "      <td>24.711922</td>\n",
              "      <td>0.034642</td>\n",
              "      <td>92.561041</td>\n",
              "      <td>8.469337</td>\n",
              "      <td>{'n_epochs': 1}</td>\n",
              "      <td>1</td>\n",
              "    </tr>\n",
              "    <tr>\n",
              "      <th>1</th>\n",
              "      <td>0.876854</td>\n",
              "      <td>0.847135</td>\n",
              "      <td>0.875632</td>\n",
              "      <td>0.847665</td>\n",
              "      <td>0.876243</td>\n",
              "      <td>0.000611</td>\n",
              "      <td>0.847400</td>\n",
              "      <td>0.000265</td>\n",
              "      <td>5</td>\n",
              "      <td>99.901261</td>\n",
              "      <td>0.435135</td>\n",
              "      <td>79.933525</td>\n",
              "      <td>0.380520</td>\n",
              "      <td>{'n_epochs': 5}</td>\n",
              "      <td>5</td>\n",
              "    </tr>\n",
              "    <tr>\n",
              "      <th>2</th>\n",
              "      <td>0.854499</td>\n",
              "      <td>0.792938</td>\n",
              "      <td>0.853356</td>\n",
              "      <td>0.792667</td>\n",
              "      <td>0.853928</td>\n",
              "      <td>0.000571</td>\n",
              "      <td>0.792802</td>\n",
              "      <td>0.000135</td>\n",
              "      <td>3</td>\n",
              "      <td>200.418372</td>\n",
              "      <td>0.960459</td>\n",
              "      <td>90.312848</td>\n",
              "      <td>1.873426</td>\n",
              "      <td>{'n_epochs': 10}</td>\n",
              "      <td>10</td>\n",
              "    </tr>\n",
              "    <tr>\n",
              "      <th>3</th>\n",
              "      <td>0.833860</td>\n",
              "      <td>0.664740</td>\n",
              "      <td>0.832901</td>\n",
              "      <td>0.664717</td>\n",
              "      <td>0.833380</td>\n",
              "      <td>0.000479</td>\n",
              "      <td>0.664729</td>\n",
              "      <td>0.000011</td>\n",
              "      <td>1</td>\n",
              "      <td>401.893433</td>\n",
              "      <td>1.365015</td>\n",
              "      <td>81.224548</td>\n",
              "      <td>1.464715</td>\n",
              "      <td>{'n_epochs': 20}</td>\n",
              "      <td>20</td>\n",
              "    </tr>\n",
              "    <tr>\n",
              "      <th>4</th>\n",
              "      <td>0.847991</td>\n",
              "      <td>0.461543</td>\n",
              "      <td>0.847106</td>\n",
              "      <td>0.461358</td>\n",
              "      <td>0.847548</td>\n",
              "      <td>0.000442</td>\n",
              "      <td>0.461450</td>\n",
              "      <td>0.000092</td>\n",
              "      <td>2</td>\n",
              "      <td>1001.916416</td>\n",
              "      <td>3.054916</td>\n",
              "      <td>86.736623</td>\n",
              "      <td>8.329652</td>\n",
              "      <td>{'n_epochs': 50}</td>\n",
              "      <td>50</td>\n",
              "    </tr>\n",
              "    <tr>\n",
              "      <th>5</th>\n",
              "      <td>0.855660</td>\n",
              "      <td>0.410124</td>\n",
              "      <td>0.854789</td>\n",
              "      <td>0.409965</td>\n",
              "      <td>0.855225</td>\n",
              "      <td>0.000436</td>\n",
              "      <td>0.410044</td>\n",
              "      <td>0.000080</td>\n",
              "      <td>4</td>\n",
              "      <td>1501.513762</td>\n",
              "      <td>3.481090</td>\n",
              "      <td>83.090090</td>\n",
              "      <td>7.338289</td>\n",
              "      <td>{'n_epochs': 75}</td>\n",
              "      <td>75</td>\n",
              "    </tr>\n",
              "  </tbody>\n",
              "</table>\n",
              "</div>"
            ],
            "text/plain": [
              "   split0_test_rmse  split0_train_rmse  ...            params  param_n_epochs\n",
              "0          0.906740           0.895792  ...   {'n_epochs': 1}               1\n",
              "1          0.876854           0.847135  ...   {'n_epochs': 5}               5\n",
              "2          0.854499           0.792938  ...  {'n_epochs': 10}              10\n",
              "3          0.833860           0.664740  ...  {'n_epochs': 20}              20\n",
              "4          0.847991           0.461543  ...  {'n_epochs': 50}              50\n",
              "5          0.855660           0.410124  ...  {'n_epochs': 75}              75\n",
              "\n",
              "[6 rows x 15 columns]"
            ]
          },
          "metadata": {
            "tags": []
          },
          "execution_count": 11
        }
      ]
    },
    {
      "cell_type": "markdown",
      "metadata": {
        "id": "baPWuTr_4iuJ"
      },
      "source": [
        "Let's visualize the results in order to find best number of epochs:"
      ]
    },
    {
      "cell_type": "code",
      "metadata": {
        "colab": {
          "base_uri": "https://localhost:8080/",
          "height": 540
        },
        "id": "63ebTE9gqrS-",
        "outputId": "e1dfcdee-dfba-4726-bdd0-c7acee036afd"
      },
      "source": [
        "# set axes\n",
        "xs = results_df['param_n_epochs']\n",
        "ys1 = results_df['mean_test_rmse']\n",
        "ys2 = results_df['mean_train_rmse']\n",
        "\n",
        "# plot axes\n",
        "plt.plot(xs, ys1, marker='v', label = 'validation data')\n",
        "plt.plot(xs, ys2, marker='o', label = 'training data')\n",
        "\n",
        "# plot vertical line\n",
        "plt.axvline(x=20, color=\"red\",  linestyle='--')\n",
        "\n",
        "# add title and labels\n",
        "plt.title('RMSE loss')\n",
        "plt.xlabel('epoch')\n",
        "plt.ylabel('mean RMSE')\n",
        "\n",
        "# add legend\n",
        "plt.legend()\n",
        "\n",
        "# add grid\n",
        "plt.grid()\n",
        "#plt.savefig('drive/MyDrive/movielens_data/RMSE_loss_svd.png')"
      ],
      "execution_count": 25,
      "outputs": [
        {
          "output_type": "display_data",
          "data": {
            "image/png": "[encoded data removed]",
            "text/plain": [
              "<Figure size 864x576 with 1 Axes>"
            ]
          },
          "metadata": {
            "tags": [],
            "needs_background": "light"
          }
        }
      ]
    },
    {
      "cell_type": "markdown",
      "metadata": {
        "id": "1FKQ3Hhf5CcW"
      },
      "source": [
        "According to the plot, RMSE decreases steadily for training data. However, in terms of vaidation data, RMSE falls down only during first 20 epochs. After that it begins to grow again! \n",
        "\n",
        "It means that learning more than for 20 epochs will lead to overfitting. \n",
        "\n",
        "So we've found out that the best parameters are:\n",
        "* regularization: 0.02 \n",
        "* learning rate: 0.005\n",
        "* number of epochs: 20"
      ]
    },
    {
      "cell_type": "markdown",
      "metadata": {
        "id": "4RNqhRjd6di8"
      },
      "source": [
        "Having found all best parameters, we can now fit SVD algorithm on training data and make predictions on testset."
      ]
    },
    {
      "cell_type": "markdown",
      "metadata": {
        "id": "uDKr4IlCFvKJ"
      },
      "source": [
        "### Predictions on the test data"
      ]
    },
    {
      "cell_type": "markdown",
      "metadata": {
        "id": "t9RwjRJbvoVt"
      },
      "source": [
        "Let's fit a new model with the best parameters:"
      ]
    },
    {
      "cell_type": "code",
      "metadata": {
        "id": "auFYVLKGGZRU"
      },
      "source": [
        "algo = SVD(reg_all=0.02, lr_all=0.005, n_epochs=20)"
      ],
      "execution_count": 72,
      "outputs": []
    },
    {
      "cell_type": "code",
      "metadata": {
        "colab": {
          "base_uri": "https://localhost:8080/"
        },
        "id": "ij4FEz8LJmBd",
        "outputId": "573e2595-3cae-42ae-bfaf-540be096e6d6"
      },
      "source": [
        "# retrain on the training set\n",
        "trainset = train_data.build_full_trainset()\n",
        "algo.fit(trainset)"
      ],
      "execution_count": 38,
      "outputs": [
        {
          "output_type": "execute_result",
          "data": {
            "text/plain": [
              "<surprise.prediction_algorithms.matrix_factorization.SVD at 0x7f1825b23390>"
            ]
          },
          "metadata": {
            "tags": []
          },
          "execution_count": 38
        }
      ]
    },
    {
      "cell_type": "code",
      "metadata": {
        "colab": {
          "base_uri": "https://localhost:8080/"
        },
        "id": "w7sHSU6YJmrR",
        "outputId": "17b05083-32d5-43ba-d974-08798ac3055f"
      },
      "source": [
        "# Compute biased accuracy on the training set\n",
        "predictions = algo.test(trainset.build_testset())\n",
        "print('Biased accuracy on A,', end=' ')\n",
        "accuracy.rmse(predictions)"
      ],
      "execution_count": 39,
      "outputs": [
        {
          "output_type": "stream",
          "text": [
            "Biased accuracy on A,   RMSE: 0.6738\n"
          ],
          "name": "stdout"
        },
        {
          "output_type": "execute_result",
          "data": {
            "text/plain": [
              "0.6737622973261234"
            ]
          },
          "metadata": {
            "tags": []
          },
          "execution_count": 39
        }
      ]
    },
    {
      "cell_type": "markdown",
      "metadata": {
        "id": "s-fHpciPwEdl"
      },
      "source": [
        "Now we can evaluate the model on the test set and make predictions on it."
      ]
    },
    {
      "cell_type": "code",
      "metadata": {
        "colab": {
          "base_uri": "https://localhost:8080/"
        },
        "id": "M6yKp57bJmv9",
        "outputId": "0ebe567e-a19a-4c93-fdec-0d4f2ae8dbf1"
      },
      "source": [
        "# Compute unbiased accuracy on the test set\n",
        "testset = test_data.build_full_trainset().build_testset()\n",
        "predictions = algo.test(testset)\n",
        "print('Unbiased accuracy on B,', end=' ')\n",
        "accuracy.rmse(predictions)"
      ],
      "execution_count": 40,
      "outputs": [
        {
          "output_type": "stream",
          "text": [
            "Unbiased accuracy on B, RMSE: 0.8177\n"
          ],
          "name": "stdout"
        },
        {
          "output_type": "execute_result",
          "data": {
            "text/plain": [
              "0.8177261309021537"
            ]
          },
          "metadata": {
            "tags": []
          },
          "execution_count": 40
        }
      ]
    },
    {
      "cell_type": "code",
      "metadata": {
        "id": "RzPA9i7KgpB8"
      },
      "source": [
        "predictions_df = pd.DataFrame.from_dict(predictions)"
      ],
      "execution_count": 75,
      "outputs": []
    },
    {
      "cell_type": "code",
      "metadata": {
        "colab": {
          "base_uri": "https://localhost:8080/",
          "height": 406
        },
        "id": "2KyuT_Okgsj9",
        "outputId": "d98a2769-1ce3-4f90-c396-5de773dfc81c"
      },
      "source": [
        "predictions_df"
      ],
      "execution_count": 76,
      "outputs": [
        {
          "output_type": "execute_result",
          "data": {
            "text/html": [
              "<div>\n",
              "<style scoped>\n",
              "    .dataframe tbody tr th:only-of-type {\n",
              "        vertical-align: middle;\n",
              "    }\n",
              "\n",
              "    .dataframe tbody tr th {\n",
              "        vertical-align: top;\n",
              "    }\n",
              "\n",
              "    .dataframe thead th {\n",
              "        text-align: right;\n",
              "    }\n",
              "</style>\n",
              "<table border=\"1\" class=\"dataframe\">\n",
              "  <thead>\n",
              "    <tr style=\"text-align: right;\">\n",
              "      <th></th>\n",
              "      <th>uid</th>\n",
              "      <th>iid</th>\n",
              "      <th>r_ui</th>\n",
              "      <th>est</th>\n",
              "      <th>details</th>\n",
              "    </tr>\n",
              "  </thead>\n",
              "  <tbody>\n",
              "    <tr>\n",
              "      <th>0</th>\n",
              "      <td>1</td>\n",
              "      <td>1750</td>\n",
              "      <td>3.5</td>\n",
              "      <td>2.521167</td>\n",
              "      <td>{'was_impossible': False}</td>\n",
              "    </tr>\n",
              "    <tr>\n",
              "      <th>1</th>\n",
              "      <td>1</td>\n",
              "      <td>3997</td>\n",
              "      <td>3.5</td>\n",
              "      <td>2.340072</td>\n",
              "      <td>{'was_impossible': False}</td>\n",
              "    </tr>\n",
              "    <tr>\n",
              "      <th>2</th>\n",
              "      <td>1</td>\n",
              "      <td>4133</td>\n",
              "      <td>3.0</td>\n",
              "      <td>2.501212</td>\n",
              "      <td>{'was_impossible': False}</td>\n",
              "    </tr>\n",
              "    <tr>\n",
              "      <th>3</th>\n",
              "      <td>1</td>\n",
              "      <td>7449</td>\n",
              "      <td>3.5</td>\n",
              "      <td>2.526362</td>\n",
              "      <td>{'was_impossible': False}</td>\n",
              "    </tr>\n",
              "    <tr>\n",
              "      <th>4</th>\n",
              "      <td>1</td>\n",
              "      <td>1525</td>\n",
              "      <td>3.0</td>\n",
              "      <td>2.455482</td>\n",
              "      <td>{'was_impossible': False}</td>\n",
              "    </tr>\n",
              "    <tr>\n",
              "      <th>...</th>\n",
              "      <td>...</td>\n",
              "      <td>...</td>\n",
              "      <td>...</td>\n",
              "      <td>...</td>\n",
              "      <td>...</td>\n",
              "    </tr>\n",
              "    <tr>\n",
              "      <th>6742242</th>\n",
              "      <td>138493</td>\n",
              "      <td>5992</td>\n",
              "      <td>5.0</td>\n",
              "      <td>4.430670</td>\n",
              "      <td>{'was_impossible': False}</td>\n",
              "    </tr>\n",
              "    <tr>\n",
              "      <th>6742243</th>\n",
              "      <td>138493</td>\n",
              "      <td>47465</td>\n",
              "      <td>5.0</td>\n",
              "      <td>4.558958</td>\n",
              "      <td>{'was_impossible': False}</td>\n",
              "    </tr>\n",
              "    <tr>\n",
              "      <th>6742244</th>\n",
              "      <td>138493</td>\n",
              "      <td>52975</td>\n",
              "      <td>4.0</td>\n",
              "      <td>4.116451</td>\n",
              "      <td>{'was_impossible': False}</td>\n",
              "    </tr>\n",
              "    <tr>\n",
              "      <th>6742245</th>\n",
              "      <td>138493</td>\n",
              "      <td>26422</td>\n",
              "      <td>5.0</td>\n",
              "      <td>4.499306</td>\n",
              "      <td>{'was_impossible': False}</td>\n",
              "    </tr>\n",
              "    <tr>\n",
              "      <th>6742246</th>\n",
              "      <td>138493</td>\n",
              "      <td>2970</td>\n",
              "      <td>5.0</td>\n",
              "      <td>4.646857</td>\n",
              "      <td>{'was_impossible': False}</td>\n",
              "    </tr>\n",
              "  </tbody>\n",
              "</table>\n",
              "<p>6742247 rows × 5 columns</p>\n",
              "</div>"
            ],
            "text/plain": [
              "            uid    iid  r_ui       est                    details\n",
              "0             1   1750   3.5  2.521167  {'was_impossible': False}\n",
              "1             1   3997   3.5  2.340072  {'was_impossible': False}\n",
              "2             1   4133   3.0  2.501212  {'was_impossible': False}\n",
              "3             1   7449   3.5  2.526362  {'was_impossible': False}\n",
              "4             1   1525   3.0  2.455482  {'was_impossible': False}\n",
              "...         ...    ...   ...       ...                        ...\n",
              "6742242  138493   5992   5.0  4.430670  {'was_impossible': False}\n",
              "6742243  138493  47465   5.0  4.558958  {'was_impossible': False}\n",
              "6742244  138493  52975   4.0  4.116451  {'was_impossible': False}\n",
              "6742245  138493  26422   5.0  4.499306  {'was_impossible': False}\n",
              "6742246  138493   2970   5.0  4.646857  {'was_impossible': False}\n",
              "\n",
              "[6742247 rows x 5 columns]"
            ]
          },
          "metadata": {
            "tags": []
          },
          "execution_count": 76
        }
      ]
    },
    {
      "cell_type": "markdown",
      "metadata": {
        "id": "6f23CVvgwPYl"
      },
      "source": [
        "Looks great! But we decided to use precision@k metric for evaluation."
      ]
    },
    {
      "cell_type": "markdown",
      "metadata": {
        "id": "bf6DNRc1IO8R"
      },
      "source": [
        "### Precision@k and recall@k"
      ]
    },
    {
      "cell_type": "code",
      "metadata": {
        "id": "6H2g2tCIIMhz"
      },
      "source": [
        "def precision_recall_at_k(predictions, k=10, threshold=3.5):\n",
        "    \"\"\"Return precision and recall at k metrics for each user\"\"\"\n",
        "\n",
        "    # First map the predictions to each user.\n",
        "    user_est_true = defaultdict(list)\n",
        "    for uid, _, true_r, est, _ in predictions:\n",
        "        user_est_true[uid].append((est, true_r))\n",
        "\n",
        "    precisions = dict()\n",
        "    recalls = dict()\n",
        "    for uid, user_ratings in user_est_true.items():\n",
        "\n",
        "        # Sort user ratings by estimated value\n",
        "        user_ratings.sort(key=lambda x: x[0], reverse=True)\n",
        "\n",
        "        # Number of relevant items\n",
        "        n_rel = sum((true_r >= threshold) for (_, true_r) in user_ratings)\n",
        "\n",
        "        # Number of recommended items in top k\n",
        "        n_rec_k = sum((est >= threshold) for (est, _) in user_ratings[:k])\n",
        "\n",
        "        # Number of relevant and recommended items in top k\n",
        "        n_rel_and_rec_k = sum(((true_r >= threshold) and (est >= threshold))\n",
        "                              for (est, true_r) in user_ratings[:k])\n",
        "\n",
        "        # Precision@K: Proportion of recommended items that are relevant\n",
        "        # When n_rec_k is 0, Precision is undefined. We here set it to 0.\n",
        "\n",
        "        precisions[uid] = n_rel_and_rec_k / n_rec_k if n_rec_k != 0 else 0\n",
        "\n",
        "        # Recall@K: Proportion of relevant items that are recommended\n",
        "        # When n_rel is 0, Recall is undefined. We here set it to 0.\n",
        "\n",
        "        recalls[uid] = n_rel_and_rec_k / n_rel if n_rel != 0 else 0\n",
        "\n",
        "    return precisions, recalls"
      ],
      "execution_count": 74,
      "outputs": []
    },
    {
      "cell_type": "markdown",
      "metadata": {
        "id": "lnGE-2MgxYLM"
      },
      "source": [
        "Firstly let's calculate precision and recall during cross-validation. We will use only train_data, with old ratings for this step:"
      ]
    },
    {
      "cell_type": "code",
      "metadata": {
        "id": "mpJNpUdpXeqF"
      },
      "source": [
        "columns = ['precision', 'recall']\n",
        "result = pd.DataFrame(columns=columns)\n",
        "\n",
        "# define a cross-validation iterator\n",
        "kf = KFold(n_splits=10)\n",
        "\n",
        "for trainset, testset in kf.split(train_data):\n",
        "\n",
        "    # train and test algorithm.\n",
        "    algo.fit(trainset)\n",
        "    predictions = algo.test(testset)\n",
        "\n",
        "    # Compute and print Root Mean Squared Error\n",
        "    precisions, recalls = precision_recall_at_k(predictions)\n",
        "    mean_precision = sum(prec for prec in precisions.values()) / len(precisions)\n",
        "    mean_recall = sum(rec for rec in recalls.values()) / len(recalls)\n",
        "\n",
        "    fold_result = pd.DataFrame([[mean_precision, mean_recall]], columns=columns)\n",
        "    result = result.append(fold_result, ignore_index=True)"
      ],
      "execution_count": 90,
      "outputs": []
    },
    {
      "cell_type": "code",
      "metadata": {
        "colab": {
          "base_uri": "https://localhost:8080/",
          "height": 347
        },
        "id": "cVErwXzcvcCI",
        "outputId": "925c5c4b-90d2-4db5-8902-305ea32d12ca"
      },
      "source": [
        "result"
      ],
      "execution_count": 68,
      "outputs": [
        {
          "output_type": "execute_result",
          "data": {
            "text/html": [
              "<div>\n",
              "<style scoped>\n",
              "    .dataframe tbody tr th:only-of-type {\n",
              "        vertical-align: middle;\n",
              "    }\n",
              "\n",
              "    .dataframe tbody tr th {\n",
              "        vertical-align: top;\n",
              "    }\n",
              "\n",
              "    .dataframe thead th {\n",
              "        text-align: right;\n",
              "    }\n",
              "</style>\n",
              "<table border=\"1\" class=\"dataframe\">\n",
              "  <thead>\n",
              "    <tr style=\"text-align: right;\">\n",
              "      <th></th>\n",
              "      <th>precision</th>\n",
              "      <th>recall</th>\n",
              "    </tr>\n",
              "  </thead>\n",
              "  <tbody>\n",
              "    <tr>\n",
              "      <th>0</th>\n",
              "      <td>0.689850</td>\n",
              "      <td>0.630193</td>\n",
              "    </tr>\n",
              "    <tr>\n",
              "      <th>1</th>\n",
              "      <td>0.691631</td>\n",
              "      <td>0.629676</td>\n",
              "    </tr>\n",
              "    <tr>\n",
              "      <th>2</th>\n",
              "      <td>0.691589</td>\n",
              "      <td>0.630832</td>\n",
              "    </tr>\n",
              "    <tr>\n",
              "      <th>3</th>\n",
              "      <td>0.691766</td>\n",
              "      <td>0.630595</td>\n",
              "    </tr>\n",
              "    <tr>\n",
              "      <th>4</th>\n",
              "      <td>0.691525</td>\n",
              "      <td>0.630612</td>\n",
              "    </tr>\n",
              "    <tr>\n",
              "      <th>5</th>\n",
              "      <td>0.690433</td>\n",
              "      <td>0.629706</td>\n",
              "    </tr>\n",
              "    <tr>\n",
              "      <th>6</th>\n",
              "      <td>0.690518</td>\n",
              "      <td>0.629065</td>\n",
              "    </tr>\n",
              "    <tr>\n",
              "      <th>7</th>\n",
              "      <td>0.691800</td>\n",
              "      <td>0.629853</td>\n",
              "    </tr>\n",
              "    <tr>\n",
              "      <th>8</th>\n",
              "      <td>0.692306</td>\n",
              "      <td>0.629846</td>\n",
              "    </tr>\n",
              "    <tr>\n",
              "      <th>9</th>\n",
              "      <td>0.690642</td>\n",
              "      <td>0.629902</td>\n",
              "    </tr>\n",
              "  </tbody>\n",
              "</table>\n",
              "</div>"
            ],
            "text/plain": [
              "   precision    recall\n",
              "0   0.689850  0.630193\n",
              "1   0.691631  0.629676\n",
              "2   0.691589  0.630832\n",
              "3   0.691766  0.630595\n",
              "4   0.691525  0.630612\n",
              "5   0.690433  0.629706\n",
              "6   0.690518  0.629065\n",
              "7   0.691800  0.629853\n",
              "8   0.692306  0.629846\n",
              "9   0.690642  0.629902"
            ]
          },
          "metadata": {
            "tags": []
          },
          "execution_count": 68
        }
      ]
    },
    {
      "cell_type": "code",
      "metadata": {
        "colab": {
          "base_uri": "https://localhost:8080/"
        },
        "id": "pg_klE46xtQR",
        "outputId": "0207fd98-3c05-4c3d-9e58-523218040299"
      },
      "source": [
        "print(\"Average precision: \", result.precision.mean())\n",
        "print(\"Average recall: \", result.recall.mean())"
      ],
      "execution_count": 71,
      "outputs": [
        {
          "output_type": "stream",
          "text": [
            "Average precision:  0.6912061599098865\n",
            "Average recall:  0.6300279085932925\n"
          ],
          "name": "stdout"
        }
      ]
    },
    {
      "cell_type": "markdown",
      "metadata": {
        "id": "NdbDe2NdyEYH"
      },
      "source": [
        "Precision is quite high, and very close to recall. Let's check it now predictions from the test data with new ratings!"
      ]
    },
    {
      "cell_type": "code",
      "metadata": {
        "id": "F9PqBhmOIMr1"
      },
      "source": [
        "precisions, recalls = precision_recall_at_k(predictions)"
      ],
      "execution_count": 44,
      "outputs": []
    },
    {
      "cell_type": "code",
      "metadata": {
        "id": "a2IpNlhpbWYX"
      },
      "source": [
        "precisions_df = pd.DataFrame.from_dict(precisions.values())\n",
        "recalls_df = pd.DataFrame.from_dict(recalls.values())\n",
        "prec_rec = pd.concat([precisions_df, recalls_df], axis=1)\n",
        "prec_rec.columns = ['precision', \"recall\"]"
      ],
      "execution_count": null,
      "outputs": []
    },
    {
      "cell_type": "code",
      "metadata": {
        "colab": {
          "base_uri": "https://localhost:8080/",
          "height": 556
        },
        "id": "4o_Nczbom1H4",
        "outputId": "2f1a5cda-0304-40c1-d917-771bff8179bf"
      },
      "source": [
        "plt.hist(prec_rec.precision, alpha=0.5, label='precision')\n",
        "plt.hist(prec_rec.recall, alpha=0.5, label='recall')\n",
        "\n",
        "# add title and labels\n",
        "plt.title('Precision@k and Recall@k')\n",
        "plt.xlabel('measure')\n",
        "plt.ylabel('# of users')\n",
        "\n",
        "plt.legend(loc='upper left')"
      ],
      "execution_count": 97,
      "outputs": [
        {
          "output_type": "execute_result",
          "data": {
            "text/plain": [
              "<matplotlib.legend.Legend at 0x7f15cdaf5250>"
            ]
          },
          "metadata": {
            "tags": []
          },
          "execution_count": 97
        },
        {
          "output_type": "display_data",
          "data": {
            "image/png": "[encoded data removed]",
            "text/plain": [
              "<Figure size 864x576 with 1 Axes>"
            ]
          },
          "metadata": {
            "tags": []
          }
        }
      ]
    },
    {
      "cell_type": "code",
      "metadata": {
        "colab": {
          "base_uri": "https://localhost:8080/"
        },
        "id": "_ZMJZt3nWnFB",
        "outputId": "89833e3b-21d1-4cdf-f7d5-bfe8a709f3ce"
      },
      "source": [
        "print(sum(prec for prec in precisions.values()) / len(precisions))\n",
        "print(sum(rec for rec in recalls.values()) / len(recalls))"
      ],
      "execution_count": 45,
      "outputs": [
        {
          "output_type": "stream",
          "text": [
            "0.7864816988629639\n",
            "0.4384171485771893\n"
          ],
          "name": "stdout"
        }
      ]
    },
    {
      "cell_type": "markdown",
      "metadata": {
        "id": "s6JB3cOnQ0rP"
      },
      "source": [
        "The precision score is higher on the test data! It may be due to the fact that the function implies that an item is considered relevant if its true rating is greater than a given threshold. And we give a threshold of 3.5. Maybe in our test data mean rating is higher than in old, training data? It can lead to a larger number of candidate movies to include in top 10 movies for recommendation. It will also explain lower recall: if we have lot's of good candidates, we cannot take them all, we need to select only 10 of them! \n",
        "\n",
        "By the way, how does our model deal with new data? We know that in testing data there are some new movies, that were not rated before.\n",
        "\n",
        "According to *Surprise* documentation:\n",
        "*\"The algorithms in surprise don't have a fallback to specifically handle cold start but some (e.g. SVD) will naturally fallback to the mean of the ratings if there are no user-wise or item-wise info available\".*\n",
        "\n",
        "That's it - the model simply give a new item an average rating.\n",
        "\n",
        "Is it correct? Shouldn't we take into account some additional information about new items or users in order to recommend them at the very beginning, when no ratings were collected?\n",
        "\n",
        "Indeed, it's a hybrid approach, and we can test it with the *LightFM* library."
      ]
    },
    {
      "cell_type": "markdown",
      "metadata": {
        "id": "_I4zZYfU6uzr"
      },
      "source": [
        "### Hybrid approach"
      ]
    },
    {
      "cell_type": "markdown",
      "metadata": {
        "id": "shU7gsQZ8qVw"
      },
      "source": [
        "Firstly we need to construct datasets for calculation. It's not quite obvious step - good part of LightFM githab issues are aimed at problems with data managing - so I will explain some crucial details.\n",
        "\n",
        "As I have stated before, we use old ratings as training set and new ratings as a test set. Firstly we need to construct dataset that will contain **all** users and movies (old and new), even if there is now interaction between them.\n",
        "\n",
        "In our case all users and all movies are in one initial dataset *ratings.csv*"
      ]
    },
    {
      "cell_type": "code",
      "metadata": {
        "id": "Ih7TOTB54Of8"
      },
      "source": [
        "# Upload initial ratings data\n",
        "all_ratings = pd.read_csv(\"drive/MyDrive/movielens_data/rating.csv\")"
      ],
      "execution_count": 4,
      "outputs": []
    },
    {
      "cell_type": "code",
      "metadata": {
        "id": "LB47Zyb64Of9"
      },
      "source": [
        "# We call fit to supply all userid and movie id\n",
        "dataset_all = Dataset()\n",
        "dataset_all.fit(\n",
        "        all_ratings['userId'].unique(), # all the users\n",
        "        all_ratings['movieId'].unique(), # all the items\n",
        ")"
      ],
      "execution_count": 33,
      "outputs": []
    },
    {
      "cell_type": "markdown",
      "metadata": {
        "id": "U9Bh-bIHHjwI"
      },
      "source": [
        "We now upload old and new data, splitted before by the date of rating."
      ]
    },
    {
      "cell_type": "code",
      "metadata": {
        "id": "39KemARcQMCa"
      },
      "source": [
        "old_ratings = pd.read_csv(\"drive/MyDrive/movielens_data/train_manually.csv\")\n",
        "new_ratings = pd.read_csv(\"drive/MyDrive/movielens_data/test_manually.csv\")"
      ],
      "execution_count": 6,
      "outputs": []
    },
    {
      "cell_type": "markdown",
      "metadata": {
        "id": "MDNnBEnzH5BF"
      },
      "source": [
        "IMPORTANT PART: Now we need to build interactions (simply build item-user sparse matrix) for **both** old and new data separately, using all data as a template.\n",
        "\n",
        "How our matrices will look like? As you may guess, they will contain interactions only from old or new data and zeros where no interaction was found. For example, new movie from new data will have its own column in both matrices: with interactions in new one and zeros in old one.\n",
        "\n",
        "It is crucial for further model fitting, because in LightFM it is impossible to present new item or user ids to a model. However, we may build predictions for new item or user with already fitted model - and that is why we use hybrid system. \n",
        "\n",
        "We will discuss this later."
      ]
    },
    {
      "cell_type": "code",
      "metadata": {
        "id": "tIfBKFtHAwUW"
      },
      "source": [
        "# plugging in the interactions and their weights\n",
        "interactions_old, weights_old = dataset_all.build_interactions([(x[0], x[1], x[2]) for x in old_ratings.values])"
      ],
      "execution_count": 34,
      "outputs": []
    },
    {
      "cell_type": "code",
      "metadata": {
        "id": "VIbyb2MDAwUY"
      },
      "source": [
        "# plugging in the interactions and their weights\n",
        "interactions_new, weights_new = dataset_all.build_interactions([(x[0], x[1], x[2]) for x in new_ratings.values])"
      ],
      "execution_count": 35,
      "outputs": []
    },
    {
      "cell_type": "markdown",
      "metadata": {
        "id": "7w_ooVWzKKPw"
      },
      "source": [
        "That's it! Now we can start fit the models. We will build three of them: the baseline model based on collaborative filtering only, the baseline with optimal parameters and the hybrid model, which will based on ratings as well as additional information about movies."
      ]
    },
    {
      "cell_type": "markdown",
      "metadata": {
        "id": "zr7JFwThkydx"
      },
      "source": [
        "## Baseline model"
      ]
    },
    {
      "cell_type": "markdown",
      "metadata": {
        "id": "WN3eeKe6AEw-"
      },
      "source": [
        "Firstly we fit a model for collaborative filtering. It will be based only on ratings information. However, it will pay attention also to implicit ratings. Explicit ratings (used in the *Surprise*) are the ratings that users actually give to items. Implicit ratings imply that if a person doesn't give a rating to an item, he or she, most probably, thought that he wiould not like this movie. So he didn't watch it and gave no rating to it! So we assume, that if a person somehow rates an item, he implicitely thought that he might like it.\n",
        "\n",
        "There comes a big difference between these two libraries. Remember user-item matrices? In case of *LightFM* it is binary: it contains 1 where the rating is (no matter which one) and 0 where no intercations were observed.\n",
        "\n",
        "It is very important in terms of precision@k calculation, we will discuss it!"
      ]
    },
    {
      "cell_type": "markdown",
      "metadata": {
        "id": "GIrSxTkX_JYO"
      },
      "source": [
        "Let's start from creating and fitting a model with some parameters:"
      ]
    },
    {
      "cell_type": "code",
      "metadata": {
        "id": "_NRAz8046PSb"
      },
      "source": [
        "baseline_model = LightFM(no_components=30, \n",
        "                         loss='warp',\n",
        "                         learning_schedule='adagrad',\n",
        "                         k=15)"
      ],
      "execution_count": 36,
      "outputs": []
    },
    {
      "cell_type": "code",
      "metadata": {
        "colab": {
          "base_uri": "https://localhost:8080/"
        },
        "id": "WfMgcfosVUBM",
        "outputId": "7d258aaa-3a0b-4c0d-caa6-a17bbfc98cf9"
      },
      "source": [
        "baseline_model.fit(interactions_old,\n",
        "                   sample_weight=weights_old,\n",
        "                   epochs=20,\n",
        "                   num_threads=4,\n",
        "                   verbose=True)"
      ],
      "execution_count": 37,
      "outputs": [
        {
          "output_type": "stream",
          "text": [
            "Epoch: 100%|██████████| 20/20 [03:56<00:00, 11.81s/it]\n"
          ],
          "name": "stderr"
        },
        {
          "output_type": "execute_result",
          "data": {
            "text/plain": [
              "<lightfm.lightfm.LightFM at 0x7fcf79aaa7d0>"
            ]
          },
          "metadata": {
            "tags": []
          },
          "execution_count": 37
        }
      ]
    },
    {
      "cell_type": "markdown",
      "metadata": {
        "id": "kNCTi558_Qpv"
      },
      "source": [
        "Calculate metrics for old and new data."
      ]
    },
    {
      "cell_type": "code",
      "metadata": {
        "id": "mKGrcIWnFDAy"
      },
      "source": [
        "train_precisions_baseline = precision_at_k(baseline_model, interactions_old, k=5, num_threads=4)\n",
        "train_aucs_baseline = auc_score(baseline_model, interactions_old, num_threads=4)"
      ],
      "execution_count": 39,
      "outputs": []
    },
    {
      "cell_type": "code",
      "metadata": {
        "id": "KvlgYQ1DFDAy"
      },
      "source": [
        "test_precisions_baseline = precision_at_k(model=baseline_model, \n",
        "                                      test_interactions=interactions_new, \n",
        "                                      train_interactions=interactions_old,\n",
        "                                      k=8, \n",
        "                                      num_threads=4)"
      ],
      "execution_count": 41,
      "outputs": []
    },
    {
      "cell_type": "code",
      "metadata": {
        "id": "fJowie4DFDAz"
      },
      "source": [
        "test_aucs_baseline = auc_score(model=baseline_model, \n",
        "                           test_interactions=interactions_new, \n",
        "                           train_interactions=interactions_old,\n",
        "                           num_threads=4)"
      ],
      "execution_count": 41,
      "outputs": []
    },
    {
      "cell_type": "code",
      "metadata": {
        "colab": {
          "base_uri": "https://localhost:8080/"
        },
        "id": "D2hefxjEFDAz",
        "outputId": "ef647ef1-9ef4-4ec1-f31b-b8fc4ee9b80b"
      },
      "source": [
        "mean_train_precision_baseline = train_precisions_baseline.mean()\n",
        "mean_test_precision_baseline = test_precisions_baseline.mean()\n",
        "\n",
        "mean_train_auc_baseline = train_aucs_baseline.mean()\n",
        "mean_test_auc_baseline = test_aucs_baseline.mean()\n",
        "\n",
        "print('Precision@k: train %.2f, test %.2f.' % (mean_train_precision_baseline, mean_test_precision_baseline))\n",
        "print('AUC: train %.2f, test %.2f.' % (mean_train_auc_baseline, mean_test_auc_baseline))"
      ],
      "execution_count": 59,
      "outputs": [
        {
          "output_type": "stream",
          "text": [
            "Precision@k: train 0.57, test 0.21.\n",
            "Recall@k: train 0.10, test 0.06.\n",
            "AUC: train 0.99, test 0.98.\n"
          ],
          "name": "stdout"
        }
      ]
    },
    {
      "cell_type": "markdown",
      "metadata": {
        "id": "gLxnA-qS_xAW"
      },
      "source": [
        "**WOW!** Precision@k is much-much smaller than it was in the *Surprise*!\n",
        "\n",
        "How can that be? Is the model so worse? Maybe we shouldn't use this library at all?\n",
        "\n",
        "No panic. It is just a consequence of implicite approach of *LightFM*. When we calculate precision@k in the *Surprise* classic SVD implementation, we define item as recommended if its estimated rating is greater than the threshold, and if it is among the k highest estimated ratings.\n",
        "\n",
        "By contrast, in the *LightFM* implementation of precision@k we need to find only objects with true ratings. For example, if each user has 5 interactions, and k=10 (we want to recommend 10 items), than the hughest precision@k we can achieve is 0.5. So the precision@k in *LightFM* is not scaled and depends on data.\n",
        "\n",
        "So we cannot compare metrics from this two libraries. However, as the author of the *LightFM* claims, we can use it to compare different models from *LoghtFM*."
      ]
    },
    {
      "cell_type": "markdown",
      "metadata": {
        "id": "tf9JhqeNEvLe"
      },
      "source": [
        "Now we can find optimal parameters for this model."
      ]
    },
    {
      "cell_type": "markdown",
      "metadata": {
        "id": "ouIk5YfMkuqq"
      },
      "source": [
        "## Parameters tuning"
      ]
    },
    {
      "cell_type": "markdown",
      "metadata": {
        "id": "2pP4tsL4E04q"
      },
      "source": [
        "Let's firstly split our old data into training and validation set."
      ]
    },
    {
      "cell_type": "code",
      "metadata": {
        "id": "P70wgX42Bks4"
      },
      "source": [
        "train_interactions, valid_interactions = random_train_test_split(interactions_old, test_percentage=0.2, random_state=np.random.RandomState(3))\n",
        "train_weights, valid_weights = random_train_test_split(weights_old, test_percentage=0.2, random_state=np.random.RandomState(3))"
      ],
      "execution_count": 7,
      "outputs": []
    },
    {
      "cell_type": "markdown",
      "metadata": {
        "id": "fEzF4LZ1E-ne"
      },
      "source": [
        "In this case we will use mean precision@k as a metric for optimization. We will try to find as low value as possible with *forest_minimize* function from *scikit-optimization*."
      ]
    },
    {
      "cell_type": "code",
      "metadata": {
        "id": "9l9ulqr7BR94"
      },
      "source": [
        "def objective(params):\n",
        "    # unpack\n",
        "    epochs, learning_rate, no_components = params\n",
        "    \n",
        "    model = LightFM(loss='warp',\n",
        "                    random_state=42,\n",
        "                    learning_rate=learning_rate,\n",
        "                    no_components=no_components)\n",
        "    \n",
        "    model.fit(train_interactions,\n",
        "              sample_weight=train_weights,\n",
        "              epochs=epochs,\n",
        "              num_threads=4, verbose=True)\n",
        "    \n",
        "    patks = precision_at_k(model, valid_interactions, k=10, num_threads=4)\n",
        "    mapatk = np.mean(patks)\n",
        "    # Make negative because we want to _minimize_ objective\n",
        "    out = -mapatk\n",
        "    \n",
        "    if np.abs(out + 1) < 0.01 or out < -1.0:\n",
        "        return 0.0\n",
        "    else:\n",
        "        return out"
      ],
      "execution_count": 9,
      "outputs": []
    },
    {
      "cell_type": "markdown",
      "metadata": {
        "id": "9_4m7iF8Fnsy"
      },
      "source": [
        "Define parameters for search and start"
      ]
    },
    {
      "cell_type": "code",
      "metadata": {
        "id": "eOSA0BOiNx4t"
      },
      "source": [
        "space = [(1, 30), # epochs\n",
        "         (10**-4, 1.0, 'log-uniform'), # learning_rate\n",
        "         (20, 100)]\n",
        "\n",
        "res_fm = forest_minimize(objective, space, n_calls=15,\n",
        "                     random_state=0,\n",
        "                     verbose=True)"
      ],
      "execution_count": null,
      "outputs": []
    },
    {
      "cell_type": "code",
      "metadata": {
        "colab": {
          "base_uri": "https://localhost:8080/"
        },
        "id": "Y1Tf6XBpBR-L",
        "outputId": "ed27f116-ded6-4b08-ab8f-ef4ba8994ef6"
      },
      "source": [
        "print('Maximimum p@k found: {:6.5f}'.format(-res_fm.fun))\n",
        "print('Optimal parameters:')\n",
        "params = ['epochs', 'learning_rate', 'no_components', 'alpha']\n",
        "for (p, x_) in zip(params, res_fm.x):\n",
        "    print('{}: {}'.format(p, x_))"
      ],
      "execution_count": 11,
      "outputs": [
        {
          "output_type": "stream",
          "text": [
            "Maximimum p@k found: 0.10142\n",
            "Optimal parameters:\n",
            "epochs: 20\n",
            "learning_rate: 0.038333321561566644\n",
            "no_components: 56\n"
          ],
          "name": "stdout"
        }
      ]
    },
    {
      "cell_type": "markdown",
      "metadata": {
        "id": "XqAS3tC3FxIs"
      },
      "source": [
        "OK, after ~2 hours we get optimal parameters:"
      ]
    },
    {
      "cell_type": "code",
      "metadata": {
        "id": "CaKQ0Yv5BR-M"
      },
      "source": [
        "epochs = 20\n",
        "learning_rate = 0.038333321561566644\n",
        "no_components = 56"
      ],
      "execution_count": 14,
      "outputs": []
    },
    {
      "cell_type": "markdown",
      "metadata": {
        "id": "MyEN7xF9F4OD"
      },
      "source": [
        "Let's fit a model with these parameters and calculate metrics"
      ]
    },
    {
      "cell_type": "code",
      "metadata": {
        "id": "r1516lHdBR-M"
      },
      "source": [
        "best_model = LightFM(no_components=no_components,\n",
        "                     loss='warp',\n",
        "                     learning_rate=learning_rate,\n",
        "                     learning_schedule='adagrad')"
      ],
      "execution_count": 15,
      "outputs": []
    },
    {
      "cell_type": "code",
      "metadata": {
        "colab": {
          "base_uri": "https://localhost:8080/"
        },
        "id": "cCpqTsQOBR-N",
        "outputId": "7614b311-019e-464c-c9ca-72826d3caa5b"
      },
      "source": [
        "best_model.fit(interactions_old,\n",
        "              sample_weight=weights_old,\n",
        "              epochs=epochs,\n",
        "              num_threads=4, verbose=True)"
      ],
      "execution_count": 16,
      "outputs": [
        {
          "output_type": "stream",
          "text": [
            "Epoch: 100%|██████████| 20/20 [05:02<00:00, 15.13s/it]\n"
          ],
          "name": "stderr"
        },
        {
          "output_type": "execute_result",
          "data": {
            "text/plain": [
              "<lightfm.lightfm.LightFM at 0x7f0bb4cbd2d0>"
            ]
          },
          "metadata": {
            "tags": []
          },
          "execution_count": 16
        }
      ]
    },
    {
      "cell_type": "code",
      "metadata": {
        "id": "zUmqjZEwBR-N"
      },
      "source": [
        "train_precisions_best = precision_at_k(best_model, interactions_old, k=5, num_threads=4)\n",
        "train_aucs_best = auc_score(best_model, interactions_old, num_threads=4)"
      ],
      "execution_count": 18,
      "outputs": []
    },
    {
      "cell_type": "code",
      "metadata": {
        "id": "CYXbqI-GAIu_"
      },
      "source": [
        "test_precisions_best = precision_at_k(model=best_model, \n",
        "                                      test_interactions=interactions_new, \n",
        "                                      train_interactions=interactions_old,\n",
        "                                      k=5, \n",
        "                                      num_threads=4)"
      ],
      "execution_count": 27,
      "outputs": []
    },
    {
      "cell_type": "code",
      "metadata": {
        "id": "62k76qKqBo3E"
      },
      "source": [
        "test_aucs_best = auc_score(model=best_model, \n",
        "                           test_interactions=interactions_new, \n",
        "                           train_interactions=interactions_old,\n",
        "                           num_threads=4)"
      ],
      "execution_count": 30,
      "outputs": []
    },
    {
      "cell_type": "code",
      "metadata": {
        "colab": {
          "base_uri": "https://localhost:8080/"
        },
        "id": "rLjDA0gyCaBO",
        "outputId": "bd80163a-ab57-4bce-dff6-d28763d384d2"
      },
      "source": [
        "mean_train_precision_best = train_precisions_best.mean()\n",
        "mean_test_precision_best = test_precisions_best.mean()\n",
        "\n",
        "mean_train_auc_best = train_aucs_best.mean()\n",
        "mean_test_auc_best = test_aucs_best.mean()\n",
        "\n",
        "print('Precision@k: train %.2f, test %.2f.' % (mean_train_precision_best, mean_test_precision_best))\n",
        "print('AUC: train %.2f, test %.2f.' % (mean_train_auc_best, mean_test_auc_best))"
      ],
      "execution_count": 31,
      "outputs": [
        {
          "output_type": "stream",
          "text": [
            "Precision@k: train 0.60, test 0.21.\n",
            "Recall@k: train 0.11, test 0.03.\n",
            "AUC: train 0.99, test 0.98.\n"
          ],
          "name": "stdout"
        }
      ]
    },
    {
      "cell_type": "markdown",
      "metadata": {
        "id": "dpjMpXW_GLze"
      },
      "source": [
        "Well, precision is only slightly higher than before tuning."
      ]
    },
    {
      "cell_type": "markdown",
      "metadata": {
        "id": "zfn15bIKA_mh"
      },
      "source": [
        "## Hybrid recommender"
      ]
    },
    {
      "cell_type": "markdown",
      "metadata": {
        "id": "GuhfDuqXGYio"
      },
      "source": [
        "OK, now let's use additional information about movies that we have in *movies.csv*: genres and year."
      ]
    },
    {
      "cell_type": "code",
      "metadata": {
        "colab": {
          "base_uri": "https://localhost:8080/",
          "height": 197
        },
        "id": "HEIZ6XfJJtAR",
        "outputId": "b6c50f2f-0a95-417b-fdbf-18cae0a758b3"
      },
      "source": [
        "movies_df = pd.read_csv('drive/MyDrive/movielens_data/movie.csv')\n",
        "movies_df.head()"
      ],
      "execution_count": 9,
      "outputs": [
        {
          "output_type": "execute_result",
          "data": {
            "text/html": [
              "<div>\n",
              "<style scoped>\n",
              "    .dataframe tbody tr th:only-of-type {\n",
              "        vertical-align: middle;\n",
              "    }\n",
              "\n",
              "    .dataframe tbody tr th {\n",
              "        vertical-align: top;\n",
              "    }\n",
              "\n",
              "    .dataframe thead th {\n",
              "        text-align: right;\n",
              "    }\n",
              "</style>\n",
              "<table border=\"1\" class=\"dataframe\">\n",
              "  <thead>\n",
              "    <tr style=\"text-align: right;\">\n",
              "      <th></th>\n",
              "      <th>movieId</th>\n",
              "      <th>title</th>\n",
              "      <th>genres</th>\n",
              "    </tr>\n",
              "  </thead>\n",
              "  <tbody>\n",
              "    <tr>\n",
              "      <th>0</th>\n",
              "      <td>1</td>\n",
              "      <td>Toy Story (1995)</td>\n",
              "      <td>Adventure|Animation|Children|Comedy|Fantasy</td>\n",
              "    </tr>\n",
              "    <tr>\n",
              "      <th>1</th>\n",
              "      <td>2</td>\n",
              "      <td>Jumanji (1995)</td>\n",
              "      <td>Adventure|Children|Fantasy</td>\n",
              "    </tr>\n",
              "    <tr>\n",
              "      <th>2</th>\n",
              "      <td>3</td>\n",
              "      <td>Grumpier Old Men (1995)</td>\n",
              "      <td>Comedy|Romance</td>\n",
              "    </tr>\n",
              "    <tr>\n",
              "      <th>3</th>\n",
              "      <td>4</td>\n",
              "      <td>Waiting to Exhale (1995)</td>\n",
              "      <td>Comedy|Drama|Romance</td>\n",
              "    </tr>\n",
              "    <tr>\n",
              "      <th>4</th>\n",
              "      <td>5</td>\n",
              "      <td>Father of the Bride Part II (1995)</td>\n",
              "      <td>Comedy</td>\n",
              "    </tr>\n",
              "  </tbody>\n",
              "</table>\n",
              "</div>"
            ],
            "text/plain": [
              "   movieId  ...                                       genres\n",
              "0        1  ...  Adventure|Animation|Children|Comedy|Fantasy\n",
              "1        2  ...                   Adventure|Children|Fantasy\n",
              "2        3  ...                               Comedy|Romance\n",
              "3        4  ...                         Comedy|Drama|Romance\n",
              "4        5  ...                                       Comedy\n",
              "\n",
              "[5 rows x 3 columns]"
            ]
          },
          "metadata": {
            "tags": []
          },
          "execution_count": 9
        }
      ]
    },
    {
      "cell_type": "markdown",
      "metadata": {
        "id": "MnULFUx3GoC6"
      },
      "source": [
        "We need to select only movies that were rated by users."
      ]
    },
    {
      "cell_type": "code",
      "metadata": {
        "id": "GY97l1SE64nj"
      },
      "source": [
        "rated_movies = all_ratings['movieId'].unique()\n",
        "movies_df = movies_df.query('movieId in @rated_movies')"
      ],
      "execution_count": 10,
      "outputs": []
    },
    {
      "cell_type": "markdown",
      "metadata": {
        "id": "H-FmCwSEGuHa"
      },
      "source": [
        "What about tags? Should we use them as well?"
      ]
    },
    {
      "cell_type": "code",
      "metadata": {
        "id": "xmlj4mClOzNY"
      },
      "source": [
        "genome_tags = pd.read_csv('drive/MyDrive/movielens_data/genome_tags.csv')\n",
        "genome_scores = pd.read_csv('drive/MyDrive/movielens_data/genome_scores.csv')"
      ],
      "execution_count": 11,
      "outputs": []
    },
    {
      "cell_type": "code",
      "metadata": {
        "colab": {
          "base_uri": "https://localhost:8080/",
          "height": 527
        },
        "id": "qTGulF-aU8i5",
        "outputId": "6f7d4750-e163-4cae-a68b-5a17fb2e4332"
      },
      "source": [
        "plt.hist(genome_scores['relevance'], alpha=0.6)\n",
        "\n",
        "# add title and labels\n",
        "plt.title('Tags relevance')\n",
        "plt.xlabel('relevance')\n",
        "plt.ylabel('# of tags')\n",
        "\n",
        "# add grid\n",
        "plt.grid()"
      ],
      "execution_count": 78,
      "outputs": [
        {
          "output_type": "display_data",
          "data": {
            "image/png": "[encoded data removed]",
            "text/plain": [
              "<Figure size 1296x576 with 1 Axes>"
            ]
          },
          "metadata": {
            "tags": [],
            "needs_background": "light"
          }
        }
      ]
    },
    {
      "cell_type": "markdown",
      "metadata": {
        "id": "z-XRmpn4UjxE"
      },
      "source": [
        "The relevance of the tags is generally very low. Due to that they can reduce performance of the model. That is why we decided not to include this data into analysis."
      ]
    },
    {
      "cell_type": "markdown",
      "metadata": {
        "id": "22CtiSlSG3kh"
      },
      "source": [
        "A little bit of tidying data:\n",
        "* Split genres\n",
        "* Convert dataframe to a long format"
      ]
    },
    {
      "cell_type": "code",
      "metadata": {
        "colab": {
          "base_uri": "https://localhost:8080/",
          "height": 197
        },
        "id": "7SLykWR0JtFR",
        "outputId": "d10cdd04-7541-4e86-a922-50796879b9fe"
      },
      "source": [
        "#We specify the parantheses so we don't conflict with movies that have years in their titles\n",
        "movies_df['year'] = movies_df.title.str.extract('(\\(\\d\\d\\d\\d\\))',expand=False)\n",
        "#Removing the parentheses\n",
        "movies_df['year'] = movies_df.year.str.extract('(\\d\\d\\d\\d)',expand=False)\n",
        "#Removing the years from the 'title' column\n",
        "movies_df['title'] = movies_df.title.str.replace('(\\(\\d\\d\\d\\d\\))', '')\n",
        "#Applying the strip function to get rid of any ending whitespace characters that may have appeared\n",
        "movies_df['title'] = movies_df['title'].apply(lambda x: x.strip())\n",
        "movies_df['genres'] = movies_df.genres.str.split('|')\n",
        "movies_df.head()"
      ],
      "execution_count": 12,
      "outputs": [
        {
          "output_type": "execute_result",
          "data": {
            "text/html": [
              "<div>\n",
              "<style scoped>\n",
              "    .dataframe tbody tr th:only-of-type {\n",
              "        vertical-align: middle;\n",
              "    }\n",
              "\n",
              "    .dataframe tbody tr th {\n",
              "        vertical-align: top;\n",
              "    }\n",
              "\n",
              "    .dataframe thead th {\n",
              "        text-align: right;\n",
              "    }\n",
              "</style>\n",
              "<table border=\"1\" class=\"dataframe\">\n",
              "  <thead>\n",
              "    <tr style=\"text-align: right;\">\n",
              "      <th></th>\n",
              "      <th>movieId</th>\n",
              "      <th>title</th>\n",
              "      <th>genres</th>\n",
              "      <th>year</th>\n",
              "    </tr>\n",
              "  </thead>\n",
              "  <tbody>\n",
              "    <tr>\n",
              "      <th>0</th>\n",
              "      <td>1</td>\n",
              "      <td>Toy Story</td>\n",
              "      <td>[Adventure, Animation, Children, Comedy, Fantasy]</td>\n",
              "      <td>1995</td>\n",
              "    </tr>\n",
              "    <tr>\n",
              "      <th>1</th>\n",
              "      <td>2</td>\n",
              "      <td>Jumanji</td>\n",
              "      <td>[Adventure, Children, Fantasy]</td>\n",
              "      <td>1995</td>\n",
              "    </tr>\n",
              "    <tr>\n",
              "      <th>2</th>\n",
              "      <td>3</td>\n",
              "      <td>Grumpier Old Men</td>\n",
              "      <td>[Comedy, Romance]</td>\n",
              "      <td>1995</td>\n",
              "    </tr>\n",
              "    <tr>\n",
              "      <th>3</th>\n",
              "      <td>4</td>\n",
              "      <td>Waiting to Exhale</td>\n",
              "      <td>[Comedy, Drama, Romance]</td>\n",
              "      <td>1995</td>\n",
              "    </tr>\n",
              "    <tr>\n",
              "      <th>4</th>\n",
              "      <td>5</td>\n",
              "      <td>Father of the Bride Part II</td>\n",
              "      <td>[Comedy]</td>\n",
              "      <td>1995</td>\n",
              "    </tr>\n",
              "  </tbody>\n",
              "</table>\n",
              "</div>"
            ],
            "text/plain": [
              "   movieId  ...  year\n",
              "0        1  ...  1995\n",
              "1        2  ...  1995\n",
              "2        3  ...  1995\n",
              "3        4  ...  1995\n",
              "4        5  ...  1995\n",
              "\n",
              "[5 rows x 4 columns]"
            ]
          },
          "metadata": {
            "tags": []
          },
          "execution_count": 12
        }
      ]
    },
    {
      "cell_type": "code",
      "metadata": {
        "id": "TT37smrd0f_O",
        "colab": {
          "base_uri": "https://localhost:8080/",
          "height": 197
        },
        "outputId": "04fdd7fe-852d-4f23-b8ad-f156beca52fe"
      },
      "source": [
        "columns = ['movieId', 'title', 'genres', 'year']\n",
        "movies_long = pd.DataFrame(columns=columns)\n",
        "\n",
        "#For every row in the dataframe, iterate through the list of genres and split it into rows\n",
        "for index, row in movies_df.iterrows():\n",
        "    for genre in row['genres']:\n",
        "      movie_row = pd.DataFrame([[row['movieId'], row['title'], genre, row['year']]], columns=columns)\n",
        "      movies_long = movies_long.append(movie_row)\n",
        "   \n",
        "movies_long.head()"
      ],
      "execution_count": 13,
      "outputs": [
        {
          "output_type": "execute_result",
          "data": {
            "text/html": [
              "<div>\n",
              "<style scoped>\n",
              "    .dataframe tbody tr th:only-of-type {\n",
              "        vertical-align: middle;\n",
              "    }\n",
              "\n",
              "    .dataframe tbody tr th {\n",
              "        vertical-align: top;\n",
              "    }\n",
              "\n",
              "    .dataframe thead th {\n",
              "        text-align: right;\n",
              "    }\n",
              "</style>\n",
              "<table border=\"1\" class=\"dataframe\">\n",
              "  <thead>\n",
              "    <tr style=\"text-align: right;\">\n",
              "      <th></th>\n",
              "      <th>movieId</th>\n",
              "      <th>title</th>\n",
              "      <th>genres</th>\n",
              "      <th>year</th>\n",
              "    </tr>\n",
              "  </thead>\n",
              "  <tbody>\n",
              "    <tr>\n",
              "      <th>0</th>\n",
              "      <td>1</td>\n",
              "      <td>Toy Story</td>\n",
              "      <td>Adventure</td>\n",
              "      <td>1995</td>\n",
              "    </tr>\n",
              "    <tr>\n",
              "      <th>0</th>\n",
              "      <td>1</td>\n",
              "      <td>Toy Story</td>\n",
              "      <td>Animation</td>\n",
              "      <td>1995</td>\n",
              "    </tr>\n",
              "    <tr>\n",
              "      <th>0</th>\n",
              "      <td>1</td>\n",
              "      <td>Toy Story</td>\n",
              "      <td>Children</td>\n",
              "      <td>1995</td>\n",
              "    </tr>\n",
              "    <tr>\n",
              "      <th>0</th>\n",
              "      <td>1</td>\n",
              "      <td>Toy Story</td>\n",
              "      <td>Comedy</td>\n",
              "      <td>1995</td>\n",
              "    </tr>\n",
              "    <tr>\n",
              "      <th>0</th>\n",
              "      <td>1</td>\n",
              "      <td>Toy Story</td>\n",
              "      <td>Fantasy</td>\n",
              "      <td>1995</td>\n",
              "    </tr>\n",
              "  </tbody>\n",
              "</table>\n",
              "</div>"
            ],
            "text/plain": [
              "  movieId      title     genres  year\n",
              "0       1  Toy Story  Adventure  1995\n",
              "0       1  Toy Story  Animation  1995\n",
              "0       1  Toy Story   Children  1995\n",
              "0       1  Toy Story     Comedy  1995\n",
              "0       1  Toy Story    Fantasy  1995"
            ]
          },
          "metadata": {
            "tags": []
          },
          "execution_count": 13
        }
      ]
    },
    {
      "cell_type": "markdown",
      "metadata": {
        "id": "rUx-JndTHKHz"
      },
      "source": [
        "Now we need to obtain a list of all possible fatures with all possible values."
      ]
    },
    {
      "cell_type": "code",
      "metadata": {
        "id": "MJ-BtQkywQWH"
      },
      "source": [
        "def get_item_features(features_df):\n",
        "  item_feat_train = []\n",
        "  uniq_genres = features_df.genres.unique()\n",
        "  uniq_year = features_df.year.unique()\n",
        "  col = ['genres']*len(uniq_genres) + ['year']*len(uniq_year)\n",
        "  uniq_f = list(uniq_genres) + list(uniq_year)\n",
        "  for x,y in zip(col, uniq_f):\n",
        "      res = str(x)+ \":\" +str(y)\n",
        "      item_feat_train.append(res) \n",
        "  return item_feat_train"
      ],
      "execution_count": 70,
      "outputs": []
    },
    {
      "cell_type": "code",
      "metadata": {
        "id": "tKTsZ89J4kct"
      },
      "source": [
        "movies_features_all = get_item_features(movies_long)\n",
        "movies_features_all.head()"
      ],
      "execution_count": null,
      "outputs": []
    },
    {
      "cell_type": "markdown",
      "metadata": {
        "id": "swdK7aSTHQMO"
      },
      "source": [
        "IMPORTANT ISSUE: Now we need to refit our dataset. In other words, we need to add feature information to already existing dataset."
      ]
    },
    {
      "cell_type": "code",
      "metadata": {
        "id": "7evvfA3a4zNE"
      },
      "source": [
        "# we call fit to supply userid, item id and user/item features\n",
        "dataset_all.fit_partial(\n",
        "        item_features = movies_features_all\n",
        ")"
      ],
      "execution_count": 77,
      "outputs": []
    },
    {
      "cell_type": "markdown",
      "metadata": {
        "id": "k57dgxyWK5mg"
      },
      "source": [
        "Finally, we need to reformat our dataframe with movies with features into a list with tuples.\n",
        "\n"
      ]
    },
    {
      "cell_type": "code",
      "metadata": {
        "id": "oH974z5C6AEI"
      },
      "source": [
        "def feature_colon_value(my_list):\n",
        "    \"\"\"\n",
        "    Takes as input a list and prepends the columns names to respective values in the list.\n",
        "    For example: if my_list = [1,1,0,'del'],\n",
        "    resultant output = ['f1:1', 'f2:1', 'f3:0', 'loc:del']\n",
        "   \n",
        "    \"\"\"\n",
        "    result = []\n",
        "    ll = ['genres:','year:']\n",
        "    aa = my_list\n",
        "    for x,y in zip(ll,aa):\n",
        "        res = str(x) +\"\"+ str(y)\n",
        "        result.append(res)\n",
        "    return result"
      ],
      "execution_count": 17,
      "outputs": []
    },
    {
      "cell_type": "code",
      "metadata": {
        "id": "3GwBC3Ga0agh"
      },
      "source": [
        "def create_feature_list(features_df):\n",
        "  feature_list = []\n",
        "\n",
        "  ad_subset = features_df[[\"genres\", 'year']] \n",
        "  ad_list = [list(x) for x in ad_subset.values]\n",
        "\n",
        "  for item in ad_list:\n",
        "    feature_list.append(feature_colon_value(item))\n",
        "  return feature_list"
      ],
      "execution_count": 18,
      "outputs": []
    },
    {
      "cell_type": "code",
      "metadata": {
        "colab": {
          "base_uri": "https://localhost:8080/"
        },
        "id": "l-AR6hgn5NLt",
        "outputId": "f3b7437b-494e-40a2-98d5-0b6b06a4e770"
      },
      "source": [
        "movies_lst_all = create_feature_list(movies_long)\n",
        "movies_tuple_all = list(zip(movies_long.movieId, movies_lst_all))\n",
        "movies_tuple_all[0:5]"
      ],
      "execution_count": 19,
      "outputs": [
        {
          "output_type": "execute_result",
          "data": {
            "text/plain": [
              "[(1, ['genres:Adventure', 'year:1995']),\n",
              " (1, ['genres:Animation', 'year:1995']),\n",
              " (1, ['genres:Children', 'year:1995']),\n",
              " (1, ['genres:Comedy', 'year:1995']),\n",
              " (1, ['genres:Fantasy', 'year:1995'])]"
            ]
          },
          "metadata": {
            "tags": []
          },
          "execution_count": 19
        }
      ]
    },
    {
      "cell_type": "markdown",
      "metadata": {
        "id": "Vx88wgWWLJZF"
      },
      "source": [
        "Finally, we build *item_features* matrix from our dataset."
      ]
    },
    {
      "cell_type": "code",
      "metadata": {
        "id": "dTws8Ai65_X2"
      },
      "source": [
        "item_features_all = dataset_all.build_item_features(movies_tuple_all, normalize= False)"
      ],
      "execution_count": 20,
      "outputs": []
    },
    {
      "cell_type": "markdown",
      "metadata": {
        "id": "0gzXCi3uLTn3"
      },
      "source": [
        "And rebuild interaction matrices for old and new data."
      ]
    },
    {
      "cell_type": "code",
      "metadata": {
        "id": "fzgi3bP-8dcu"
      },
      "source": [
        "# plugging in the interactions and their weights\n",
        "interactions_old, weights_old = dataset_all.build_interactions([(x[0], x[1], x[2]) for x in old_ratings.values])"
      ],
      "execution_count": 21,
      "outputs": []
    },
    {
      "cell_type": "code",
      "metadata": {
        "id": "hs46-O4W7wXZ"
      },
      "source": [
        "# plugging in the interactions and their weights\n",
        "interactions_new, weights_new = dataset_all.build_interactions([(x[0], x[1], x[2]) for x in new_ratings.values])"
      ],
      "execution_count": 22,
      "outputs": []
    },
    {
      "cell_type": "markdown",
      "metadata": {
        "id": "TO59_K9yLaZT"
      },
      "source": [
        "After all this data preparation, we are able to find best parameters!"
      ]
    },
    {
      "cell_type": "markdown",
      "metadata": {
        "id": "71alt5kXI5zY"
      },
      "source": [
        "## Parameters tuning"
      ]
    },
    {
      "cell_type": "markdown",
      "metadata": {
        "id": "7jnsBQnlHh7L"
      },
      "source": [
        "Again, we need to find optimal parameters. Be aware, it can take ~7 hours."
      ]
    },
    {
      "cell_type": "code",
      "metadata": {
        "id": "kXp_yWXIouE1"
      },
      "source": [
        "train_interactions, valid_interactions = random_train_test_split(interactions_old, test_percentage=0.2, random_state=np.random.RandomState(3))\n",
        "train_weights, valid_weights = random_train_test_split(weights_old, test_percentage=0.2, random_state=np.random.RandomState(3))"
      ],
      "execution_count": 90,
      "outputs": []
    },
    {
      "cell_type": "code",
      "metadata": {
        "id": "HWb72V8q39mJ"
      },
      "source": [
        "def objective(params):\n",
        "    # unpack\n",
        "    epochs, learning_rate, no_components, alpha = params\n",
        "    \n",
        "    user_alpha = alpha\n",
        "    item_alpha = alpha\n",
        "    model = LightFM(loss='warp',\n",
        "                    random_state=42,\n",
        "                    learning_rate=learning_rate,\n",
        "                    no_components=no_components,\n",
        "                    user_alpha=user_alpha,\n",
        "                    item_alpha=item_alpha)\n",
        "    \n",
        "    model.fit(train_interactions,\n",
        "              item_features=item_features_all,\n",
        "              sample_weight=train_weights,\n",
        "              epochs=epochs,\n",
        "              num_threads=4, verbose=True)\n",
        "    \n",
        "    patks = precision_at_k(model, valid_interactions, item_features=item_features_all, k=10, num_threads=4)\n",
        "    mapatk = np.mean(patks)\n",
        "    # Make negative because we want to _minimize_ objective\n",
        "    out = -mapatk\n",
        "    \n",
        "    if np.abs(out + 1) < 0.01 or out < -1.0:\n",
        "        return 0.0\n",
        "    else:\n",
        "        return out"
      ],
      "execution_count": null,
      "outputs": []
    },
    {
      "cell_type": "code",
      "metadata": {
        "id": "GV_G7rkD39mL"
      },
      "source": [
        "space_hyb = [(1, 30), # epochs\n",
        "         (10**-4, 1.0, 'log-uniform'), # learning_rate\n",
        "         (20, 200), # no_components\n",
        "         (10**-6, 10**-1, 'log-uniform'), # alpha\n",
        "        ]\n",
        "\n",
        "res_fm_hyb = forest_minimize(objective, space_hyb, n_calls=15,\n",
        "                     random_state=0,\n",
        "                     verbose=True)"
      ],
      "execution_count": null,
      "outputs": []
    },
    {
      "cell_type": "code",
      "metadata": {
        "colab": {
          "base_uri": "https://localhost:8080/"
        },
        "id": "SU0339v139mN",
        "outputId": "7b9e343d-4389-4179-f2bd-3fa18b3fb7c1"
      },
      "source": [
        "print('Maximimum p@k found: {:6.5f}'.format(-res_fm_hyb.fun))\n",
        "print('Optimal parameters:')\n",
        "params = ['epochs', 'learning_rate', 'no_components', 'alpha']\n",
        "for (p, x_) in zip(params, res_fm_hyb.x):\n",
        "    print('{}: {}'.format(p, x_))"
      ],
      "execution_count": null,
      "outputs": [
        {
          "output_type": "stream",
          "text": [
            "Maximimum p@k found: 0.09400\n",
            "Optimal parameters:\n",
            "epochs: 19\n",
            "learning_rate: 0.007842096480821407\n",
            "no_components: 197\n",
            "alpha: 0.00020295362430434758\n"
          ],
          "name": "stdout"
        }
      ]
    },
    {
      "cell_type": "markdown",
      "metadata": {
        "id": "WdFxSw-DHvLZ"
      },
      "source": [
        "The best parameters are:"
      ]
    },
    {
      "cell_type": "code",
      "metadata": {
        "id": "QuC62bBJ44bC"
      },
      "source": [
        "epochs = 19\n",
        "learning_rate = 0.007842096480821407\n",
        "no_components = 197\n",
        "alpha = 0.00020295362430434758"
      ],
      "execution_count": 23,
      "outputs": []
    },
    {
      "cell_type": "markdown",
      "metadata": {
        "id": "dmMdNJpFHyxr"
      },
      "source": [
        "Again we need to fit a model with the best parameters using additioanl feature information."
      ]
    },
    {
      "cell_type": "code",
      "metadata": {
        "id": "wcW68VgW44bE"
      },
      "source": [
        "best_model_hyb = LightFM(loss='warp',\n",
        "                    random_state=42,\n",
        "                    learning_rate=learning_rate,\n",
        "                    no_components=no_components,\n",
        "                    user_alpha=alpha,\n",
        "                    item_alpha=alpha)"
      ],
      "execution_count": 24,
      "outputs": []
    },
    {
      "cell_type": "code",
      "metadata": {
        "colab": {
          "base_uri": "https://localhost:8080/"
        },
        "id": "vV52E2uC44bE",
        "outputId": "c7136ed7-e188-458e-a3ff-8e144fff4e14"
      },
      "source": [
        "best_model_hyb.fit(interactions_old,\n",
        "               item_features=item_features_all,\n",
        "               sample_weight=weights_old,\n",
        "               epochs=epochs,\n",
        "               num_threads=4, verbose=True)"
      ],
      "execution_count": 25,
      "outputs": [
        {
          "output_type": "stream",
          "text": [
            "Epoch: 100%|██████████| 19/19 [24:41<00:00, 77.98s/it]\n"
          ],
          "name": "stderr"
        },
        {
          "output_type": "execute_result",
          "data": {
            "text/plain": [
              "<lightfm.lightfm.LightFM at 0x7fcef0f28a10>"
            ]
          },
          "metadata": {
            "tags": []
          },
          "execution_count": 25
        }
      ]
    },
    {
      "cell_type": "code",
      "metadata": {
        "id": "NZxIDQ0n44bG"
      },
      "source": [
        "train_precisions_best_hyb = precision_at_k(best_model_hyb, interactions_old, item_features=item_features_all, k=5, num_threads=4)"
      ],
      "execution_count": null,
      "outputs": []
    },
    {
      "cell_type": "code",
      "metadata": {
        "id": "rEfNhKy944bH"
      },
      "source": [
        "test_precisions_best_hyb = precision_at_k(model=best_model_hyb, \n",
        "                                      test_interactions=interactions_new, \n",
        "                                      train_interactions=interactions_old,\n",
        "                                      item_features=item_features_all,\n",
        "                                      k=5, \n",
        "                                      num_threads=4)"
      ],
      "execution_count": 29,
      "outputs": []
    },
    {
      "cell_type": "code",
      "metadata": {
        "colab": {
          "base_uri": "https://localhost:8080/"
        },
        "id": "3cS35tdD44bK",
        "outputId": "ae2fbd8e-674d-4ca2-d2b5-83ee3eaced49"
      },
      "source": [
        "mean_train_precision_best_hyb = train_precisions_best_hyb.mean()\n",
        "mean_test_precision_best_hyb = test_precisions_best_hyb.mean()\n",
        "\n",
        "print('Precision@k: train %.2f, test %.2f.' % (mean_train_precision_best_hyb, mean_test_precision_best_hyb))"
      ],
      "execution_count": 30,
      "outputs": [
        {
          "output_type": "stream",
          "text": [
            "Precision@k: train 0.53, test 0.19.\n"
          ],
          "name": "stdout"
        }
      ]
    },
    {
      "cell_type": "markdown",
      "metadata": {
        "id": "Y6zGgkSDWgF8"
      },
      "source": [
        "Now let's look on both models and compare them."
      ]
    },
    {
      "cell_type": "code",
      "metadata": {
        "colab": {
          "base_uri": "https://localhost:8080/",
          "height": 525
        },
        "id": "f6mmkq5644bM",
        "outputId": "7e0de4a7-519d-404c-b265-fbc93643823b"
      },
      "source": [
        "plt.rcParams['figure.figsize'] = [12, 8]\n",
        "plt.rcParams['savefig.bbox'] = 'tight'\n",
        "plt.rcParams['font.size'] = 16\n",
        "figure, axes = plt.subplots(nrows = 1, ncols = 2)\n",
        "\n",
        "# Next you could use each axes as plt\n",
        "axes[0].boxplot(test_precisions_baseline)\n",
        "axes[1].boxplot(test_precisions_best_hyb)\n",
        "\n",
        "# Customization functions are slightly different - set_attribute\n",
        "axes[0].set_title('Baseline model')\n",
        "axes[1].set_title('Hybrid model')"
      ],
      "execution_count": 42,
      "outputs": [
        {
          "output_type": "execute_result",
          "data": {
            "text/plain": [
              "Text(0.5, 1.0, 'Hybrid model')"
            ]
          },
          "metadata": {
            "tags": []
          },
          "execution_count": 42
        },
        {
          "output_type": "display_data",
          "data": {
            "image/png": "[encoded data removed]",
            "text/plain": [
              "<Figure size 864x576 with 2 Axes>"
            ]
          },
          "metadata": {
            "tags": [],
            "needs_background": "light"
          }
        }
      ]
    },
    {
      "cell_type": "markdown",
      "metadata": {
        "id": "U9nzqhw1RNvs"
      },
      "source": [
        "The t-test measures whether the average score differs significantly across samples. If we observe a large p-value, for example greater than 0.05 or 0.1 then we cannot reject the null hypothesis of identical average scores.\n",
        "\n",
        "**TO-DO**: Run cross-validation on the same train-validation splits and compare obtained precisions@k using bootstrapping or t-test\n",
        "\n",
        "From individual precisions, we can see that they are almost equal. We can assume that there is no big difference between two models."
      ]
    },
    {
      "cell_type": "code",
      "metadata": {
        "colab": {
          "base_uri": "https://localhost:8080/",
          "height": 544
        },
        "id": "LSopcZMkUKRx",
        "outputId": "9456a21f-b4ff-476c-8ecf-61ec8d5d73ea"
      },
      "source": [
        "plt.hist(test_precisions_best_hyb, alpha=0.5, label='hybrid')\n",
        "plt.hist(test_precisions_baseline, alpha=0.5, label='CF')\n",
        "\n",
        "# add title and labels\n",
        "plt.title('Recall@8')\n",
        "plt.xlabel('measure')\n",
        "plt.ylabel('# of users')\n",
        "\n",
        "plt.legend(loc='upper left')"
      ],
      "execution_count": 53,
      "outputs": [
        {
          "output_type": "execute_result",
          "data": {
            "text/plain": [
              "<matplotlib.legend.Legend at 0x7fcf6b1ae910>"
            ]
          },
          "metadata": {
            "tags": []
          },
          "execution_count": 53
        },
        {
          "output_type": "display_data",
          "data": {
            "image/png": "[encoded data removed]",
            "text/plain": [
              "<Figure size 864x576 with 1 Axes>"
            ]
          },
          "metadata": {
            "tags": [],
            "needs_background": "light"
          }
        }
      ]
    },
    {
      "cell_type": "markdown",
      "metadata": {
        "id": "sAsUqsrwlOdS"
      },
      "source": [
        "## Predictions for new movies"
      ]
    },
    {
      "cell_type": "markdown",
      "metadata": {
        "id": "qpE8zBQWYiSn"
      },
      "source": [
        "As I have said, hybrid systems can recommend new items based on additional features, not on average rating.\n",
        "\n",
        "Let's find out how to make predictions for new items in *LightFM*"
      ]
    },
    {
      "cell_type": "markdown",
      "metadata": {
        "id": "1mehmvqaY2IT"
      },
      "source": [
        "Firstly we need to get maps from our dataset:"
      ]
    },
    {
      "cell_type": "code",
      "metadata": {
        "id": "JFydEE7km719"
      },
      "source": [
        "user_id_map, user_feature_map, item_id_map, item_feature_map = dataset_all.mapping()"
      ],
      "execution_count": 78,
      "outputs": []
    },
    {
      "cell_type": "markdown",
      "metadata": {
        "id": "At405UXZY8Ix"
      },
      "source": [
        "Imagine we get 2 new movies:"
      ]
    },
    {
      "cell_type": "code",
      "metadata": {
        "colab": {
          "base_uri": "https://localhost:8080/",
          "height": 107
        },
        "id": "jl7bNOMvJdtU",
        "outputId": "747b9be8-0da1-4d45-f873-68ac40a9bc9c"
      },
      "source": [
        "columns = ['movieId', 'title', 'genres', 'year']\n",
        "new_arrivals = pd.DataFrame([['88888000888', \"Anacleto: Agente secreto\", ['Crime', 'Thriller', 'Comedy'], '2015'],\n",
        "                           ['88888000886', \"Anabel\", ['Action', 'Horror', 'Thriller'], '2015']], columns=columns)\n",
        "new_arrivals"
      ],
      "execution_count": 63,
      "outputs": [
        {
          "output_type": "execute_result",
          "data": {
            "text/html": [
              "<div>\n",
              "<style scoped>\n",
              "    .dataframe tbody tr th:only-of-type {\n",
              "        vertical-align: middle;\n",
              "    }\n",
              "\n",
              "    .dataframe tbody tr th {\n",
              "        vertical-align: top;\n",
              "    }\n",
              "\n",
              "    .dataframe thead th {\n",
              "        text-align: right;\n",
              "    }\n",
              "</style>\n",
              "<table border=\"1\" class=\"dataframe\">\n",
              "  <thead>\n",
              "    <tr style=\"text-align: right;\">\n",
              "      <th></th>\n",
              "      <th>movieId</th>\n",
              "      <th>title</th>\n",
              "      <th>genres</th>\n",
              "      <th>year</th>\n",
              "    </tr>\n",
              "  </thead>\n",
              "  <tbody>\n",
              "    <tr>\n",
              "      <th>0</th>\n",
              "      <td>88888000888</td>\n",
              "      <td>Anacleto: Agente secreto</td>\n",
              "      <td>[Crime, Thriller, Comedy]</td>\n",
              "      <td>2015</td>\n",
              "    </tr>\n",
              "    <tr>\n",
              "      <th>1</th>\n",
              "      <td>88888000886</td>\n",
              "      <td>Anabel</td>\n",
              "      <td>[Action, Horror, Thriller]</td>\n",
              "      <td>2015</td>\n",
              "    </tr>\n",
              "  </tbody>\n",
              "</table>\n",
              "</div>"
            ],
            "text/plain": [
              "       movieId                     title                      genres  year\n",
              "0  88888000888  Anacleto: Agente secreto   [Crime, Thriller, Comedy]  2015\n",
              "1  88888000886                    Anabel  [Action, Horror, Thriller]  2015"
            ]
          },
          "metadata": {
            "tags": []
          },
          "execution_count": 63
        }
      ]
    },
    {
      "cell_type": "markdown",
      "metadata": {
        "id": "BitRwYx6ZFMZ"
      },
      "source": [
        "Let's format manually this toy dataframe:"
      ]
    },
    {
      "cell_type": "code",
      "metadata": {
        "colab": {
          "base_uri": "https://localhost:8080/",
          "height": 197
        },
        "id": "UckPvl2eXBuA",
        "outputId": "9c2b7bf9-62f6-44e2-cbf9-54a12c738d1d"
      },
      "source": [
        "columns = ['movieId', 'title', 'genres', 'year']\n",
        "new_arrivals_long = pd.DataFrame(columns=columns)\n",
        "\n",
        "#For every row in the dataframe, iterate through the list of genres and split it into rows\n",
        "for index, row in new_arrivals.iterrows():\n",
        "    for genre in row['genres']:\n",
        "      movie_row = pd.DataFrame([[row['movieId'], row['title'], genre, row['year']]], columns=columns)\n",
        "      new_arrivals_long = new_arrivals_long.append(movie_row)\n",
        "   \n",
        "new_arrivals_long.head()"
      ],
      "execution_count": 64,
      "outputs": [
        {
          "output_type": "execute_result",
          "data": {
            "text/html": [
              "<div>\n",
              "<style scoped>\n",
              "    .dataframe tbody tr th:only-of-type {\n",
              "        vertical-align: middle;\n",
              "    }\n",
              "\n",
              "    .dataframe tbody tr th {\n",
              "        vertical-align: top;\n",
              "    }\n",
              "\n",
              "    .dataframe thead th {\n",
              "        text-align: right;\n",
              "    }\n",
              "</style>\n",
              "<table border=\"1\" class=\"dataframe\">\n",
              "  <thead>\n",
              "    <tr style=\"text-align: right;\">\n",
              "      <th></th>\n",
              "      <th>movieId</th>\n",
              "      <th>title</th>\n",
              "      <th>genres</th>\n",
              "      <th>year</th>\n",
              "    </tr>\n",
              "  </thead>\n",
              "  <tbody>\n",
              "    <tr>\n",
              "      <th>0</th>\n",
              "      <td>88888000888</td>\n",
              "      <td>Anacleto: Agente secreto</td>\n",
              "      <td>Crime</td>\n",
              "      <td>2015</td>\n",
              "    </tr>\n",
              "    <tr>\n",
              "      <th>0</th>\n",
              "      <td>88888000888</td>\n",
              "      <td>Anacleto: Agente secreto</td>\n",
              "      <td>Thriller</td>\n",
              "      <td>2015</td>\n",
              "    </tr>\n",
              "    <tr>\n",
              "      <th>0</th>\n",
              "      <td>88888000888</td>\n",
              "      <td>Anacleto: Agente secreto</td>\n",
              "      <td>Comedy</td>\n",
              "      <td>2015</td>\n",
              "    </tr>\n",
              "    <tr>\n",
              "      <th>0</th>\n",
              "      <td>88888000886</td>\n",
              "      <td>Anabel</td>\n",
              "      <td>Action</td>\n",
              "      <td>2015</td>\n",
              "    </tr>\n",
              "    <tr>\n",
              "      <th>0</th>\n",
              "      <td>88888000886</td>\n",
              "      <td>Anabel</td>\n",
              "      <td>Horror</td>\n",
              "      <td>2015</td>\n",
              "    </tr>\n",
              "  </tbody>\n",
              "</table>\n",
              "</div>"
            ],
            "text/plain": [
              "       movieId                     title    genres  year\n",
              "0  88888000888  Anacleto: Agente secreto     Crime  2015\n",
              "0  88888000888  Anacleto: Agente secreto  Thriller  2015\n",
              "0  88888000888  Anacleto: Agente secreto    Comedy  2015\n",
              "0  88888000886                    Anabel    Action  2015\n",
              "0  88888000886                    Anabel    Horror  2015"
            ]
          },
          "metadata": {
            "tags": []
          },
          "execution_count": 64
        }
      ]
    },
    {
      "cell_type": "code",
      "metadata": {
        "id": "hdhaLA2bJr3X"
      },
      "source": [
        "new_arrivals_features = create_feature_list(new_arrivals_long)"
      ],
      "execution_count": 72,
      "outputs": []
    },
    {
      "cell_type": "code",
      "metadata": {
        "colab": {
          "base_uri": "https://localhost:8080/"
        },
        "id": "-q1tvAqTWrk3",
        "outputId": "ef9c8317-21d6-4a87-8f43-cfc3ff90f513"
      },
      "source": [
        "new_arrivals_features"
      ],
      "execution_count": 79,
      "outputs": [
        {
          "output_type": "execute_result",
          "data": {
            "text/plain": [
              "[['genres:Crime', 'year:2015'],\n",
              " ['genres:Thriller', 'year:2015'],\n",
              " ['genres:Comedy', 'year:2015'],\n",
              " ['genres:Action', 'year:2015'],\n",
              " ['genres:Horror', 'year:2015'],\n",
              " ['genres:Thriller', 'year:2015']]"
            ]
          },
          "metadata": {
            "tags": []
          },
          "execution_count": 79
        }
      ]
    },
    {
      "cell_type": "code",
      "metadata": {
        "id": "zt4zVWJH_8jb"
      },
      "source": [
        "def format_new_item_input(item_feature_map, new_item_feature_list):\n",
        "  sp_data = []\n",
        "  \n",
        "  for item in new_item_feature_list:  \n",
        "    num_features = len(item)\n",
        "    normalised_val = 1.0 \n",
        "    target_indices = []\n",
        "    for feature in item:\n",
        "      try:\n",
        "          target_indices.append(item_feature_map[feature])\n",
        "      except KeyError:\n",
        "          print(\"new item feature encountered '{}'\".format(feature))\n",
        "          pass\n",
        "    #print(\"target indices: {}\".format(target_indices))\n",
        "    new_user_features = np.zeros(len(item_feature_map.keys()))\n",
        "    for i in target_indices:\n",
        "      new_user_features[i] = normalised_val\n",
        "    new_user_features = sparse.csr_matrix(new_user_features)\n",
        "    sp_data.append(new_user_features)\n",
        "  # Stack the matrix\n",
        "  sp_data = sparse.vstack(sp_data)\n",
        "  return sp_data"
      ],
      "execution_count": 74,
      "outputs": []
    },
    {
      "cell_type": "code",
      "metadata": {
        "id": "DvLkbp2ZlIWu"
      },
      "source": [
        "new_item_features_mx = format_new_item_input(item_feature_map, new_arrivals_features)"
      ],
      "execution_count": 80,
      "outputs": []
    },
    {
      "cell_type": "markdown",
      "metadata": {
        "id": "VVq6kkWSZMX9"
      },
      "source": [
        "And finally we can make predictions of this film!\n",
        "\n",
        "For example, we can obtain predicted ranks for these movies from user #59 from our dataset: "
      ]
    },
    {
      "cell_type": "code",
      "metadata": {
        "id": "jVaTEQ33lNJZ",
        "colab": {
          "base_uri": "https://localhost:8080/"
        },
        "outputId": "dbc8e0d2-2fe4-42b9-a530-67dca978f050"
      },
      "source": [
        "best_model_hyb.predict(user_ids=59, item_ids=[0,1], item_features=new_item_features_mx)"
      ],
      "execution_count": 83,
      "outputs": [
        {
          "output_type": "execute_result",
          "data": {
            "text/plain": [
              "array([-0.63200986, -0.61276054], dtype=float32)"
            ]
          },
          "metadata": {
            "tags": []
          },
          "execution_count": 83
        }
      ]
    }
  ]
}